{
 "cells": [
  {
   "cell_type": "markdown",
   "id": "e6a839e1",
   "metadata": {},
   "source": [
    "### Summary"
   ]
  },
  {
   "cell_type": "markdown",
   "id": "c9b59fdd",
   "metadata": {},
   "source": [
    "#### Q1 - 3D CNN with Lung CT_IMG\n",
    "##### 1. Result overview\n",
    "This project was based on pycox and 3D-CNN borrowed from pytorch.<br/>\n",
    "Due to author's limited knowledge in CT_img, lung cancer and lack of computational power , this project only designed a very simple 3D-CNN as a proof of concept.<br/>\n",
    "The brier-score from <em>constant-hazard-interpolated-estimates</em> and <em>constant-density-interpolated-estimates</em> were both <b>0.25</b>.<br/>\n",
    "According to the plot, there's no significant difference in performance between <em>hazard-interpolated</em> and <em>density-interpolated</em> estimates.<br/>\n",
    "![cdi-chi](./Q1_plot.png \"xxx\")\n",
    "\n",
    "##### 2. Model design\n",
    "Model contained two major components: 3D-CNN transformation and Logistic hazard regression. Following part briefly describled keys steps in these two components.<br/>\n",
    "* Part 1. 3D-CNN (transform 3d image to 20 output features)\n",
    "    1. compressed ct_img from 512x512x(varies layers) to 50x50x20 and 1 channel for each patient. This saved computataional resources and made imgage ready for 3D-CNN.\n",
    "    2. 3D-CNN contained 2 convolution layers and 2 linear transformation layers. The neural network works flow was: image (1 channel * 50W * 50L * 20H) --> (32 features * kernal_size(3x3x3) * stride(1x1x1)) --> (64 features *  kernal_size(5x5x5) * stride(1x1x1)) --> linear transformation (64 features -> 32 features) --> Final layer: linear trainsformation (32 features -> 20 features)\n",
    "* Part 2. Logistic Hazard regression\n",
    "    1. Trainsfromed continous survival_time into discrete-time with 20 cuts\n",
    "    2. Took 20 features output from 3D-CNN as input with Adam optimization method, learning rate of 0.01, and early stopping rule with patience of 5 steps\n",
    "    3. Model took 49 steps to converge with train_loss beginning at 870 and ending at 1.92<br/>\n",
    "    \n",
    "##### 3. Future imporvement\n",
    "1. 3D-CNN\n",
    "    * As a proof of concept, the 3D-CNN used here was fairly simple. In future, with a better knowledge of how CT image associate with lung cancer detaction, this CNN could have multi-channels with different foucs in each channel.\n",
    "    * With better computational power, image with better solution (e.g. 100L*100W*50H) and more complex neural net could be used.\n",
    "2. Logistic Hazard regression\n",
    "    * Different number of cuts for continous survival time discretion could be used to further improve model performance.\n",
    "\n",
    "#### Q2 - Hybrid NN with ensembling 3D CNN model and Radiomics features NN model\n",
    "##### Result Overview\n",
    "With incorporating radiomics information, this model (Hybrid-NN) perfomed a bit better than CT-image only model. The brier-score decreased from 0.25 to <b>0.24</b> for both <em>hazard-interpolated</em> and <em>density-interpolated</em> estimates. <br/>\n",
    "While the imporvement seems small, the potential of this Hybrid-NN was big. With the same optimizer and learning rate, Hybrid-NN's loss reduced much faster comparing to CT-img only model in early stages. A fine tuned Hybrid-NN should outperform CT-img only model, especially in some complicated cases.<br/>\n",
    "Similar to CT-img only model, Hybrid-NN showed no significant difference in performance between hazard-interpolated and density-interpolated estimates.\n",
    "![cdi-chi](./Q2_plot.png \"xxx\")\n",
    "\n",
    "##### Model design\n",
    "Hybrid-NN contained four major components: 3D-CNN transformation, radiomics-features-NN-transformation, ensemble-NN-transformation, and Logistic harzard regression.\n",
    "1. 3D-CNN\n",
    "    * Hybrid-NN's 3D-CNN slightly modified design from previous CT-img only model. In the last step, Hybrid-NN's 3D-CNN output 32 features. These features combined with transformed radiomics features in ensemble NN transformation step.\n",
    "2. Radiomics-NN-transformation\n",
    "    * Due to author's limited knowledge in lung cancer, Random-Forrest-Classifier and Random-Forrest-Regressor were used here to identify potential significant features from over 387 features in the orignal radiomics-data.\n",
    "    * After combining highly correlated featuers, 24 countinous features were MinMax scaled and then feed into radiomics-features-NN-transformation.\n",
    "    * Transformation contatined 3 layers: 24 features --> 32 features --> 64 features --> output layer: 32 features\n",
    "3. ensemble-NN-transformation\n",
    "    * This transformation contained 2 layers: 64 features (32 from 3D-CNN + 32 from radiomics-NN) --> 32 features --> output layer: 20 features\n",
    "4. Logistic Hazard regression\n",
    "    * Identical to the model used in the last step with 20 cuts.\n",
    "    \n",
    "##### Future imporvement\n",
    "1. 3D-CNN\n",
    "    * Similar to previous model, a more sophisticated 3D-CNN can be used.\n",
    "2. Radiomics-NN-transformation\n",
    "    * With better understanding of all radiomics featuers, some meaningful feature engineering can be used. For example, maximum of certain wave length or gray level in HHH, HHL, etc. Thus, a more roboust cox-regression model can be developed here. This should largly imporve the model performance comparing to features only picked by random-forrest and boost Hybrid-NN performance\n",
    "3. Ensemble-NN-transformation\n",
    "    * Different combination of features, layers, and dropout layers can be used to further improve model performance.\n",
    "4. Logistic Hazard regression\n",
    "    * Different number of cuts for continous survival time discretion could be used to further improve model performance.\n",
    "\n"
   ]
  },
  {
   "cell_type": "markdown",
   "id": "5d82619e",
   "metadata": {},
   "source": [
    "### Q1 - CT_img 3D-CNN"
   ]
  },
  {
   "cell_type": "code",
   "execution_count": 177,
   "id": "fb976ad5",
   "metadata": {},
   "outputs": [],
   "source": [
    "# load package\n",
    "import numpy as np\n",
    "import pandas as pd\n",
    "import nrrd\n",
    "import os\n",
    "import cv2\n",
    "import matplotlib.pyplot as plt\n",
    "%matplotlib inline\n",
    "import seaborn as sns\n",
    "import math\n",
    "from IPython.core.interactiveshell import InteractiveShell\n",
    "InteractiveShell.ast_node_interactivity = \"all\"\n",
    "\n",
    "import torch\n",
    "import torch.nn as nn\n",
    "import torch.nn.functional as F\n",
    "from torch.utils.data import Dataset, DataLoader \n",
    "\n",
    "import torchtuples as tt\n",
    "from pycox.models import LogisticHazard\n",
    "from pycox.utils import kaplan_meier\n",
    "from pycox.evaluation import EvalSurv\n",
    "\n",
    "from sklearn.ensemble import RandomForestClassifier\n",
    "from sklearn.ensemble import RandomForestRegressor\n",
    "from sklearn.feature_selection import SelectFromModel\n",
    "from sklearn.metrics import confusion_matrix, classification_report, roc_curve, auc, mean_squared_error\n",
    "from sklearn.model_selection import RandomizedSearchCV\n",
    "from sklearn.preprocessing import MinMaxScaler"
   ]
  },
  {
   "cell_type": "code",
   "execution_count": 162,
   "id": "728e2c96",
   "metadata": {},
   "outputs": [],
   "source": [
    "# image file path\n",
    "img_dir = '/Users/peAce/Box/DSexam/Lung1_data/CT_img/'\n",
    "patients = pd.DataFrame(os.listdir(img_dir), columns=['patient'])\n",
    "\n",
    "patients['ID'] = patients['patient'].str[2:5]\n",
    "patients.set_index('ID', inplace=True)"
   ]
  },
  {
   "cell_type": "code",
   "execution_count": 156,
   "id": "c6ce8a66",
   "metadata": {},
   "outputs": [],
   "source": [
    "# load train test label\n",
    "train_id = pd.read_csv('/Users/peAce/Box/DSexam/Lung1_data/train_ID.csv')\n",
    "test_id = pd.read_csv('/Users/peAce/Box/DSexam/Lung1_data/test_ID.csv')\n",
    "\n",
    "train_id['ID']  = train_id['Train_ID'].str[-3:]\n",
    "train_id.set_index('ID', inplace=True)\n",
    "train_id.sort_index(inplace=True)\n",
    "\n",
    "test_id['ID']  = test_id['Test_ID'].str[-3:]\n",
    "test_id.set_index('ID', inplace=True)\n",
    "test_id.sort_index(inplace=True)"
   ]
  },
  {
   "cell_type": "code",
   "execution_count": null,
   "id": "d93a25f0",
   "metadata": {},
   "outputs": [],
   "source": []
  },
  {
   "cell_type": "code",
   "execution_count": 35,
   "id": "604f5ba9",
   "metadata": {},
   "outputs": [],
   "source": [
    "# load clinic data\n",
    "data_cli = pd.read_csv('/Users/peAce/Box/DSexam/Lung1_data/lung1_clinical.csv')\n",
    "# generate ID and set it as index\n",
    "data_cli['ID'] = data_cli['PatientID'].str[-3:]\n",
    "data_cli.set_index('ID', inplace=True)\n",
    "# sort data to align with ct_img\n",
    "data_cli.sort_index(inplace=True)"
   ]
  },
  {
   "cell_type": "code",
   "execution_count": null,
   "id": "6e829289",
   "metadata": {},
   "outputs": [],
   "source": []
  },
  {
   "cell_type": "code",
   "execution_count": 139,
   "id": "22535fbf",
   "metadata": {},
   "outputs": [],
   "source": [
    "# split train test - data\n",
    "train_data = data_cli.merge(train_id, how='inner', left_index=True, right_index=True)\n",
    "train_data.sort_index(inplace=True) # sort data to align with ct_img\n",
    "test_data = data_cli.merge(test_id, how='inner', left_index=True, right_index=True)\n",
    "test_data.sort_index(inplace=True)\n",
    "\n",
    "# split train test - patient list\n",
    "patients_train = patients.merge(train_id, how='inner', left_index=True, right_index=True)\n",
    "patients_train.sort_index(inplace=True) # sort data to align with ct_img\n",
    "patients_train = patients_train['patient'].values.tolist()\n",
    "\n",
    "patients_test = patients.merge(test_id, how='inner', left_index=True, right_index=True)\n",
    "patients_test.sort_index(inplace=True)\n",
    "patients_test = patients_test['patient'].values.tolist()"
   ]
  },
  {
   "cell_type": "code",
   "execution_count": 149,
   "id": "e83f1baa",
   "metadata": {},
   "outputs": [],
   "source": [
    "# label transform\n",
    "num_durations = 20\n",
    "labtrans = LogisticHazard.label_transform(num_durations)\n",
    "\n",
    "get_target = lambda df: (df['Survival.time'].values, df['deadstatus.event'].values)\n",
    "y_train = labtrans.fit_transform(*get_target(train_data))\n",
    "y_test = labtrans.fit_transform(*get_target(test_data))\n",
    "durations_test, events_test = get_target(test_data)"
   ]
  },
  {
   "cell_type": "code",
   "execution_count": 183,
   "id": "afc96c0a",
   "metadata": {},
   "outputs": [],
   "source": [
    "# Custom functions\n",
    "# read nrrd file\n",
    "def read_nrrd_file(path: str, tensor_shape: tuple ) -> np.ndarray:\n",
    "    tensor = nrrd.read(path)[0]                             \n",
    "    tensor = np.flip(tensor, -1)         \n",
    "    return tensor\n",
    "\n",
    "def nrrd_to_numpy(path: str, tensor_shape: tuple):\n",
    "    tensor = read_nrrd_file(path, tensor_shape)\n",
    "\n",
    "    # reorient the axes \n",
    "    slices = np.moveaxis(tensor,\n",
    "                            [0, 1, 2],\n",
    "                            [2, 1, 0]).astype(np.float32)\n",
    "    return slices\n",
    "\n",
    "# compress layers to reduce size\n",
    "def chunks(l, n):\n",
    "    for i in range(0, len(l), n):\n",
    "        yield l[i:i + n]\n",
    "\n",
    "def mean(a):\n",
    "    return sum(a) / len(a)\n",
    "\n",
    "# make layer consistant\n",
    "def consist_chunk (new_slices, hm_slices):\n",
    "    if len(new_slices) == hm_slices-1:\n",
    "        new_slices.append(new_slices[-1])\n",
    "\n",
    "    if len(new_slices) == hm_slices-2:\n",
    "        new_slices.append(new_slices[-1])\n",
    "        new_slices.append(new_slices[-1])\n",
    "        \n",
    "    if len(new_slices) == hm_slices-3:\n",
    "        new_slices.append(new_slices[-1])\n",
    "        new_slices.append(new_slices[-1])\n",
    "        new_slices.append(new_slices[-1])\n",
    "\n",
    "    if len(new_slices) == hm_slices+2:\n",
    "        new_val = list(map(mean, zip(*[new_slices[hm_slices-1],new_slices[hm_slices],])))\n",
    "        del new_slices[hm_slices]\n",
    "        new_slices[hm_slices-1] = new_val\n",
    "        \n",
    "    if len(new_slices) == hm_slices+1:\n",
    "        new_val = list(map(mean, zip(*[new_slices[hm_slices-1],new_slices[hm_slices],])))\n",
    "        del new_slices[hm_slices]\n",
    "        new_slices[hm_slices-1] = new_val\n",
    "\n",
    "# tuplefy\n",
    "def collate_fn(batch):\n",
    "    return tt.tuplefy(batch).stack()"
   ]
  },
  {
   "cell_type": "code",
   "execution_count": 200,
   "id": "b6c7d09c",
   "metadata": {},
   "outputs": [],
   "source": [
    "IMG_PX_SIZE = 50\n",
    "NUM_SLICES = 20\n",
    "# pre-processing data\n",
    "def process_data (patient, num, y, IMG_PX_SIZE=50, NUM_SLICES=20):\n",
    "    ID = patient[2:5]\n",
    "    time = torch.tensor(y[0][num])\n",
    "    event = torch.tensor(y[1][num])\n",
    "    path = img_dir + patient\n",
    "    slices = nrrd_to_numpy(path, (512,512))\n",
    "    new_slices = []\n",
    "    # compress each slice size\n",
    "    slices = [cv2.resize(np.array(each_slice),(IMG_PX_SIZE,IMG_PX_SIZE)) for each_slice in slices]\n",
    "    # compress slices\n",
    "    chunk_size = math.ceil(len(slices)/ NUM_SLICES)\n",
    "    for slice_chunk in chunks(slices, chunk_size):\n",
    "        slice_chunk = list(map(mean, zip(*slice_chunk)))\n",
    "        new_slices.append(slice_chunk)\n",
    "    # ensure equal length of compressed slices\n",
    "    consist_chunk(new_slices, NUM_SLICES) \n",
    "    print(ID, len(new_slices))\n",
    "    # reshape to 1 channel* 20H*50W*50L\n",
    "    new_slices = np.array(new_slices).reshape((1,NUM_SLICES,IMG_PX_SIZE,IMG_PX_SIZE))\n",
    "    \n",
    "    return torch.from_numpy(new_slices), (time, event)"
   ]
  },
  {
   "cell_type": "code",
   "execution_count": 201,
   "id": "445f7b9f",
   "metadata": {},
   "outputs": [
    {
     "name": "stdout",
     "output_type": "stream",
     "text": [
      "0\n",
      "001 1\n",
      "002 1\n",
      "004 1\n",
      "005 1\n",
      "007 1\n",
      "008 1\n",
      "010 1\n",
      "017 1\n",
      "018 1\n",
      "019 1\n",
      "020 1\n",
      "022 1\n",
      "023 1\n",
      "025 1\n",
      "026 1\n",
      "028 1\n",
      "029 1\n",
      "030 1\n",
      "033 1\n",
      "034 1\n",
      "035 1\n",
      "036 1\n",
      "037 1\n",
      "038 1\n",
      "039 1\n",
      "040 1\n",
      "041 1\n",
      "042 1\n",
      "044 1\n",
      "045 1\n",
      "046 1\n",
      "047 1\n",
      "048 1\n",
      "051 1\n",
      "052 1\n",
      "054 1\n",
      "055 1\n",
      "056 1\n",
      "057 1\n",
      "058 1\n",
      "060 1\n",
      "061 1\n",
      "062 1\n",
      "064 1\n",
      "067 1\n",
      "068 1\n",
      "069 1\n",
      "071 1\n",
      "072 1\n",
      "073 1\n",
      "074 1\n",
      "076 1\n",
      "077 1\n",
      "078 1\n",
      "079 1\n",
      "080 1\n",
      "081 1\n",
      "082 1\n",
      "083 1\n",
      "087 1\n",
      "091 1\n",
      "092 1\n",
      "093 1\n",
      "094 1\n",
      "097 1\n",
      "098 1\n",
      "099 1\n",
      "101 1\n",
      "103 1\n",
      "104 1\n",
      "106 1\n",
      "108 1\n",
      "109 1\n",
      "112 1\n",
      "113 1\n",
      "114 1\n",
      "115 1\n",
      "116 1\n",
      "117 1\n",
      "120 1\n",
      "121 1\n",
      "129 1\n",
      "130 1\n",
      "131 1\n",
      "135 1\n",
      "136 1\n",
      "137 1\n",
      "138 1\n",
      "139 1\n",
      "141 1\n",
      "142 1\n",
      "143 1\n",
      "144 1\n",
      "145 1\n",
      "148 1\n",
      "149 1\n",
      "150 1\n",
      "151 1\n",
      "152 1\n",
      "154 1\n",
      "100\n",
      "155 1\n",
      "156 1\n",
      "158 1\n",
      "159 1\n",
      "162 1\n",
      "163 1\n",
      "164 1\n",
      "165 1\n",
      "166 1\n",
      "168 1\n",
      "169 1\n",
      "170 1\n",
      "171 1\n",
      "173 1\n",
      "174 1\n",
      "176 1\n",
      "178 1\n",
      "179 1\n",
      "180 1\n",
      "181 1\n",
      "182 1\n",
      "183 1\n",
      "185 1\n",
      "186 1\n",
      "187 1\n",
      "189 1\n",
      "192 1\n",
      "193 1\n",
      "197 1\n",
      "199 1\n",
      "200 1\n",
      "203 1\n",
      "204 1\n",
      "205 1\n",
      "206 1\n",
      "207 1\n",
      "208 1\n",
      "211 1\n",
      "213 1\n",
      "214 1\n",
      "216 1\n",
      "217 1\n",
      "218 1\n",
      "219 1\n",
      "221 1\n",
      "223 1\n",
      "224 1\n",
      "225 1\n",
      "227 1\n",
      "228 1\n",
      "230 1\n",
      "231 1\n",
      "232 1\n",
      "233 1\n",
      "235 1\n",
      "236 1\n",
      "237 1\n",
      "239 1\n",
      "240 1\n",
      "241 1\n",
      "242 1\n",
      "244 1\n",
      "246 1\n",
      "247 1\n",
      "248 1\n",
      "249 1\n",
      "252 1\n",
      "254 1\n",
      "255 1\n",
      "256 1\n",
      "257 1\n",
      "258 1\n",
      "260 1\n",
      "264 1\n",
      "267 1\n",
      "268 1\n",
      "269 1\n",
      "271 1\n",
      "273 1\n",
      "274 1\n",
      "275 1\n",
      "276 1\n",
      "277 1\n",
      "279 1\n",
      "280 1\n",
      "283 1\n",
      "286 1\n",
      "287 1\n",
      "288 1\n",
      "289 1\n",
      "290 1\n",
      "291 1\n",
      "292 1\n",
      "293 1\n",
      "294 1\n",
      "295 1\n",
      "296 1\n",
      "298 1\n",
      "299 1\n",
      "300 1\n",
      "200\n",
      "301 1\n",
      "302 1\n",
      "303 1\n",
      "304 1\n",
      "307 1\n",
      "308 1\n",
      "311 1\n",
      "313 1\n",
      "315 1\n",
      "316 1\n",
      "318 1\n",
      "319 1\n",
      "320 1\n",
      "321 1\n",
      "322 1\n",
      "323 1\n",
      "324 1\n",
      "325 1\n",
      "327 1\n",
      "328 1\n",
      "329 1\n",
      "330 1\n",
      "332 1\n",
      "334 1\n",
      "335 1\n",
      "336 1\n",
      "337 1\n",
      "338 1\n",
      "339 1\n",
      "340 1\n",
      "341 1\n",
      "342 1\n",
      "343 1\n",
      "344 1\n",
      "345 1\n",
      "346 1\n",
      "347 1\n",
      "349 1\n",
      "350 1\n",
      "351 1\n",
      "352 1\n",
      "354 1\n",
      "356 1\n",
      "357 1\n",
      "358 1\n",
      "359 1\n",
      "360 1\n",
      "361 1\n",
      "362 1\n",
      "365 1\n",
      "366 1\n",
      "367 1\n",
      "368 1\n",
      "369 1\n",
      "371 1\n",
      "374 1\n",
      "375 1\n",
      "376 1\n",
      "377 1\n",
      "378 1\n",
      "379 1\n",
      "380 1\n",
      "381 1\n",
      "382 1\n",
      "383 1\n",
      "384 1\n",
      "385 1\n",
      "386 1\n",
      "389 1\n",
      "390 1\n",
      "391 1\n",
      "395 1\n",
      "396 1\n",
      "397 1\n",
      "398 1\n",
      "399 1\n",
      "401 1\n",
      "403 1\n",
      "404 1\n",
      "405 1\n",
      "407 1\n",
      "408 1\n",
      "409 1\n",
      "410 1\n",
      "413 1\n",
      "414 1\n",
      "415 1\n",
      "416 1\n",
      "417 1\n",
      "419 1\n",
      "420 1\n",
      "421 1\n"
     ]
    }
   ],
   "source": [
    "# generate final data - train\n",
    "IMG_PX_SIZE = 50\n",
    "NUM_SLICES = 20\n",
    "train_ct_data = []\n",
    "\n",
    "for num,patient in enumerate(patients_train):\n",
    "    if num % 100 == 0:\n",
    "        print(num)\n",
    "        \n",
    "    img_data, tup = process_data(patient, num, y_train, IMG_PX_SIZE, NUM_SLICES)\n",
    "    train_ct_data.append((img_data, tup))\n",
    "\n",
    "np.save('train-{}-{}-{}.npy'.format(IMG_PX_SIZE,IMG_PX_SIZE,NUM_SLICES), train_ct_data)"
   ]
  },
  {
   "cell_type": "code",
   "execution_count": 205,
   "id": "d078b101",
   "metadata": {},
   "outputs": [
    {
     "name": "stdout",
     "output_type": "stream",
     "text": [
      "0\n",
      "003 1\n",
      "006 1\n",
      "009 1\n",
      "011 1\n",
      "012 1\n",
      "016 1\n",
      "024 1\n",
      "031 1\n",
      "032 1\n",
      "043 1\n",
      "050 1\n",
      "053 1\n",
      "059 1\n",
      "063 1\n",
      "065 1\n",
      "066 1\n",
      "070 1\n",
      "075 1\n",
      "084 1\n",
      "088 1\n",
      "089 1\n",
      "096 1\n",
      "100 1\n",
      "105 1\n",
      "107 1\n",
      "110 1\n",
      "119 1\n",
      "123 1\n",
      "124 1\n",
      "125 1\n",
      "126 1\n",
      "127 1\n",
      "132 1\n",
      "140 1\n",
      "147 1\n",
      "153 1\n",
      "160 1\n",
      "167 1\n",
      "172 1\n",
      "175 1\n",
      "177 1\n",
      "184 1\n",
      "190 1\n",
      "191 1\n",
      "196 1\n",
      "198 1\n",
      "201 1\n",
      "202 1\n",
      "209 1\n",
      "210 1\n",
      "212 1\n",
      "215 1\n",
      "220 1\n",
      "226 1\n",
      "229 1\n",
      "234 1\n",
      "238 1\n",
      "243 1\n",
      "245 1\n",
      "250 1\n",
      "259 1\n",
      "261 1\n",
      "262 1\n",
      "263 1\n",
      "265 1\n",
      "266 1\n",
      "272 1\n",
      "278 1\n",
      "284 1\n",
      "285 1\n",
      "297 1\n",
      "310 1\n",
      "312 1\n",
      "314 1\n",
      "326 1\n",
      "331 1\n",
      "333 1\n",
      "348 1\n",
      "353 1\n",
      "355 1\n",
      "363 1\n",
      "364 1\n",
      "370 1\n",
      "372 1\n",
      "373 1\n",
      "387 1\n",
      "388 1\n",
      "392 1\n",
      "393 1\n",
      "394 1\n",
      "400 1\n",
      "402 1\n",
      "406 1\n",
      "412 1\n",
      "418 1\n",
      "422 1\n"
     ]
    }
   ],
   "source": [
    "# generate final data - test\n",
    "IMG_PX_SIZE = 50\n",
    "NUM_SLICES = 20\n",
    "test_ct_data = []\n",
    "\n",
    "for num,patient in enumerate(patients_test):\n",
    "    if num % 100 == 0:\n",
    "        print(num)\n",
    "        \n",
    "    img_data, tup = process_data(patient, num, y_test, IMG_PX_SIZE, NUM_SLICES)\n",
    "    test_ct_data.append((img_data, tup))\n",
    "\n",
    "np.save('test-{}-{}-{}.npy'.format(IMG_PX_SIZE,IMG_PX_SIZE,NUM_SLICES), test_ct_data)"
   ]
  },
  {
   "cell_type": "code",
   "execution_count": 208,
   "id": "0fe24571",
   "metadata": {},
   "outputs": [],
   "source": [
    "# Data Loader\n",
    "batch_size = 50\n",
    "dl_train = DataLoader(train_ct_data, batch_size, shuffle=True, collate_fn=collate_fn)\n",
    "dl_test = DataLoader(test_ct_data, batch_size, shuffle=False, collate_fn=collate_fn)"
   ]
  },
  {
   "cell_type": "code",
   "execution_count": 207,
   "id": "821a8a4d",
   "metadata": {},
   "outputs": [
    {
     "data": {
      "text/plain": [
       "(torch.Size([50, 1, 20, 50, 50]), (torch.Size([50]), torch.Size([50])))"
      ]
     },
     "execution_count": 207,
     "metadata": {},
     "output_type": "execute_result"
    },
    {
     "data": {
      "text/plain": [
       "(torch.float32, (torch.int64, torch.float32))"
      ]
     },
     "execution_count": 207,
     "metadata": {},
     "output_type": "execute_result"
    }
   ],
   "source": [
    "# quick check\n",
    "batch = next(iter(dl_train))\n",
    "batch.shapes()\n",
    "batch.dtypes()"
   ]
  },
  {
   "cell_type": "markdown",
   "id": "3194380f",
   "metadata": {},
   "source": [
    "#### Modeling"
   ]
  },
  {
   "cell_type": "code",
   "execution_count": 186,
   "id": "eb8ffa73",
   "metadata": {},
   "outputs": [],
   "source": [
    "# Net\n",
    "class Net(nn.Module):\n",
    "    def __init__(self, out_features):\n",
    "        super().__init__()\n",
    "        self.conv1 = nn.Conv3d(1, 32, 3, 1)\n",
    "        self.max_pool = nn.MaxPool3d(2)\n",
    "        self.conv2 = nn.Conv3d(32, 64, 5, 1)\n",
    "        self.glob_avg_pool = nn.AdaptiveAvgPool3d((1, 1, 1))\n",
    "        self.fc1 = nn.Linear(64, 32)\n",
    "        self.fc2 = nn.Linear(32, out_features)\n",
    "\n",
    "    def forward(self, x):\n",
    "        x = F.relu(self.conv1(x))\n",
    "        x = self.max_pool(x)\n",
    "        x = F.relu(self.conv2(x))\n",
    "        x = self.glob_avg_pool(x)\n",
    "        x = torch.flatten(x, 1)\n",
    "        x = F.relu(self.fc1(x))\n",
    "        x = self.fc2(x)\n",
    "        return x"
   ]
  },
  {
   "cell_type": "code",
   "execution_count": 187,
   "id": "8588648f",
   "metadata": {},
   "outputs": [
    {
     "data": {
      "text/plain": [
       "Net(\n",
       "  (conv1): Conv3d(1, 32, kernel_size=(5, 5, 5), stride=(1, 1, 1))\n",
       "  (max_pool): MaxPool3d(kernel_size=3, stride=3, padding=0, dilation=1, ceil_mode=False)\n",
       "  (conv2): Conv3d(32, 64, kernel_size=(5, 5, 5), stride=(1, 1, 1))\n",
       "  (glob_avg_pool): AdaptiveAvgPool3d(output_size=(1, 1, 1))\n",
       "  (fc1): Linear(in_features=64, out_features=32, bias=True)\n",
       "  (fc2): Linear(in_features=32, out_features=20, bias=True)\n",
       ")"
      ]
     },
     "execution_count": 187,
     "metadata": {},
     "output_type": "execute_result"
    }
   ],
   "source": [
    "net = Net(labtrans.out_features)\n",
    "net"
   ]
  },
  {
   "cell_type": "code",
   "execution_count": 188,
   "id": "ab4cbc6c",
   "metadata": {},
   "outputs": [],
   "source": [
    "# Logistic-Hazard Model\n",
    "model = LogisticHazard(net, tt.optim.Adam(0.01), duration_index=labtrans.cuts)"
   ]
  },
  {
   "cell_type": "code",
   "execution_count": 204,
   "id": "2a98381e",
   "metadata": {},
   "outputs": [
    {
     "data": {
      "text/plain": [
       "torch.Size([50, 20])"
      ]
     },
     "execution_count": 204,
     "metadata": {},
     "output_type": "execute_result"
    }
   ],
   "source": [
    "pred = model.predict(batch[0])\n",
    "pred.shape"
   ]
  },
  {
   "cell_type": "code",
   "execution_count": 209,
   "id": "35023276",
   "metadata": {},
   "outputs": [
    {
     "name": "stdout",
     "output_type": "stream",
     "text": [
      "0:\t[16s / 16s],\t\ttrain_loss: 870.3301,\tval_loss: 225.7986\n",
      "1:\t[15s / 32s],\t\ttrain_loss: 151.1359,\tval_loss: 114.5495\n",
      "2:\t[16s / 49s],\t\ttrain_loss: 100.6509,\tval_loss: 82.8749\n",
      "3:\t[16s / 1m:5s],\t\ttrain_loss: 66.7822,\tval_loss: 60.5337\n",
      "4:\t[16s / 1m:21s],\t\ttrain_loss: 46.5788,\tval_loss: 41.1143\n",
      "5:\t[16s / 1m:37s],\t\ttrain_loss: 23.6481,\tval_loss: 18.8602\n",
      "6:\t[16s / 1m:53s],\t\ttrain_loss: 16.7987,\tval_loss: 16.6221\n",
      "7:\t[16s / 2m:10s],\t\ttrain_loss: 13.6071,\tval_loss: 4.8153\n",
      "8:\t[15s / 2m:25s],\t\ttrain_loss: 3.9122,\tval_loss: 4.7122\n",
      "9:\t[15s / 2m:41s],\t\ttrain_loss: 3.8173,\tval_loss: 4.5678\n",
      "10:\t[15s / 2m:56s],\t\ttrain_loss: 3.6857,\tval_loss: 4.4105\n",
      "11:\t[15s / 3m:12s],\t\ttrain_loss: 3.5739,\tval_loss: 4.2548\n",
      "12:\t[15s / 3m:27s],\t\ttrain_loss: 3.4462,\tval_loss: 4.1061\n",
      "13:\t[15s / 3m:42s],\t\ttrain_loss: 3.3238,\tval_loss: 3.9655\n",
      "14:\t[16s / 3m:59s],\t\ttrain_loss: 3.2185,\tval_loss: 3.8362\n",
      "15:\t[15s / 4m:14s],\t\ttrain_loss: 3.1238,\tval_loss: 3.7160\n",
      "16:\t[15s / 4m:30s],\t\ttrain_loss: 3.0233,\tval_loss: 3.6036\n",
      "17:\t[15s / 4m:45s],\t\ttrain_loss: 2.9457,\tval_loss: 3.5003\n",
      "18:\t[15s / 5m:1s],\t\ttrain_loss: 2.8614,\tval_loss: 3.4051\n",
      "19:\t[15s / 5m:17s],\t\ttrain_loss: 2.7929,\tval_loss: 3.3150\n",
      "20:\t[15s / 5m:33s],\t\ttrain_loss: 2.7261,\tval_loss: 3.2323\n",
      "21:\t[17s / 5m:50s],\t\ttrain_loss: 2.6685,\tval_loss: 3.1552\n",
      "22:\t[15s / 6m:5s],\t\ttrain_loss: 2.6058,\tval_loss: 3.0824\n",
      "23:\t[15s / 6m:21s],\t\ttrain_loss: 2.5520,\tval_loss: 3.0148\n",
      "24:\t[15s / 6m:36s],\t\ttrain_loss: 2.5014,\tval_loss: 2.9525\n",
      "25:\t[15s / 6m:52s],\t\ttrain_loss: 2.4594,\tval_loss: 2.8938\n",
      "26:\t[15s / 7m:7s],\t\ttrain_loss: 2.4180,\tval_loss: 2.8390\n",
      "27:\t[15s / 7m:23s],\t\ttrain_loss: 2.3817,\tval_loss: 2.7881\n",
      "28:\t[15s / 7m:38s],\t\ttrain_loss: 2.3395,\tval_loss: 2.7404\n",
      "29:\t[15s / 7m:54s],\t\ttrain_loss: 2.3081,\tval_loss: 2.6959\n",
      "30:\t[15s / 8m:10s],\t\ttrain_loss: 2.2715,\tval_loss: 2.6538\n",
      "31:\t[15s / 8m:25s],\t\ttrain_loss: 2.2411,\tval_loss: 2.6144\n",
      "32:\t[15s / 8m:41s],\t\ttrain_loss: 2.2128,\tval_loss: 2.5770\n",
      "33:\t[15s / 8m:56s],\t\ttrain_loss: 2.1792,\tval_loss: 2.5419\n",
      "34:\t[15s / 9m:12s],\t\ttrain_loss: 2.1548,\tval_loss: 2.5098\n",
      "35:\t[16s / 9m:28s],\t\ttrain_loss: 2.1352,\tval_loss: 2.4796\n",
      "36:\t[15s / 9m:44s],\t\ttrain_loss: 2.1145,\tval_loss: 2.4506\n",
      "37:\t[15s / 9m:59s],\t\ttrain_loss: 2.0888,\tval_loss: 2.4239\n",
      "38:\t[15s / 10m:15s],\t\ttrain_loss: 2.0749,\tval_loss: 2.3982\n",
      "39:\t[15s / 10m:30s],\t\ttrain_loss: 2.0521,\tval_loss: 2.3748\n",
      "40:\t[15s / 10m:45s],\t\ttrain_loss: 2.0380,\tval_loss: 2.3528\n",
      "41:\t[15s / 11m:1s],\t\ttrain_loss: 2.0228,\tval_loss: 2.3318\n",
      "42:\t[15s / 11m:16s],\t\ttrain_loss: 2.0125,\tval_loss: 2.3121\n",
      "43:\t[15s / 11m:32s],\t\ttrain_loss: 1.9932,\tval_loss: 2.2930\n",
      "44:\t[15s / 11m:47s],\t\ttrain_loss: 1.9799,\tval_loss: 2.2747\n",
      "45:\t[15s / 12m:2s],\t\ttrain_loss: 1.9737,\tval_loss: 2.2582\n",
      "46:\t[15s / 12m:18s],\t\ttrain_loss: 1.9566,\tval_loss: 2.2427\n",
      "47:\t[15s / 12m:33s],\t\ttrain_loss: 1.9504,\tval_loss: 2.2279\n",
      "48:\t[15s / 12m:49s],\t\ttrain_loss: 1.9413,\tval_loss: 2.2138\n",
      "49:\t[15s / 13m:4s],\t\ttrain_loss: 1.9230,\tval_loss: 2.2005\n"
     ]
    }
   ],
   "source": [
    "# Training\n",
    "callbacks = [tt.cb.EarlyStopping(patience=5)]\n",
    "epochs = 50\n",
    "verbose = True\n",
    "log = model.fit_dataloader(dl_train, epochs, callbacks, verbose, val_dataloader=dl_test)\n",
    "\n",
    "# Save the whole network\n",
    "model.save_net('Q1_net.pt')\n",
    "# model.load_net('Q1_net.pt')"
   ]
  },
  {
   "cell_type": "code",
   "execution_count": 213,
   "id": "ad56d161",
   "metadata": {},
   "outputs": [
    {
     "data": {
      "image/png": "[encoded data removed]",
      "text/plain": [
       "<Figure size 640x480 with 1 Axes>"
      ]
     },
     "metadata": {},
     "output_type": "display_data"
    }
   ],
   "source": [
    "# plot loss performance\n",
    "_ = log.plot()\n",
    "plt.show()"
   ]
  },
  {
   "cell_type": "markdown",
   "id": "85eaa1bb",
   "metadata": {},
   "source": [
    "#### Prediction"
   ]
  },
  {
   "cell_type": "code",
   "execution_count": 240,
   "id": "16a038bd",
   "metadata": {},
   "outputs": [
    {
     "data": {
      "text/plain": [
       "torch.Size([50, 1, 20, 50, 50])"
      ]
     },
     "execution_count": 240,
     "metadata": {},
     "output_type": "execute_result"
    }
   ],
   "source": [
    "# get X from test data\n",
    "test_ct_X = [item[0] for item in test_ct_data]\n",
    "dl_test_x = DataLoader(test_ct_X, batch_size, shuffle=False)\n",
    "next(iter(dl_test_x)).shape"
   ]
  },
  {
   "cell_type": "code",
   "execution_count": 241,
   "id": "943f758d",
   "metadata": {},
   "outputs": [],
   "source": [
    "# get prediction\n",
    "surv = model.predict_surv_df(dl_test_x)"
   ]
  },
  {
   "cell_type": "code",
   "execution_count": null,
   "id": "29995653",
   "metadata": {},
   "outputs": [],
   "source": []
  },
  {
   "cell_type": "code",
   "execution_count": 244,
   "id": "457e10a3",
   "metadata": {},
   "outputs": [],
   "source": [
    "# Evaluation\n",
    "surv_cdi = model.interpolate(10).predict_surv_df(dl_test_x)\n",
    "surv_chi = model.interpolate(10, 'const_hazard').predict_surv_df(dl_test_x)\n",
    "ev_cdi = EvalSurv(surv_cdi, durations_test, events_test, censor_surv='km')\n",
    "ev_chi = EvalSurv(surv_chi, durations_test, events_test, censor_surv='km')"
   ]
  },
  {
   "cell_type": "code",
   "execution_count": 245,
   "id": "03656bb4",
   "metadata": {},
   "outputs": [
    {
     "data": {
      "text/plain": [
       "(0.500924784217016, 0.500924784217016)"
      ]
     },
     "execution_count": 245,
     "metadata": {},
     "output_type": "execute_result"
    }
   ],
   "source": [
    "ev_cdi.concordance_td(), ev_chi.concordance_td()"
   ]
  },
  {
   "cell_type": "code",
   "execution_count": 246,
   "id": "12a6406d",
   "metadata": {},
   "outputs": [
    {
     "data": {
      "text/plain": [
       "(0.2477434439294755, 0.24827778524493807)"
      ]
     },
     "execution_count": 246,
     "metadata": {},
     "output_type": "execute_result"
    },
    {
     "data": {
      "text/plain": [
       "<AxesSubplot:>"
      ]
     },
     "execution_count": 246,
     "metadata": {},
     "output_type": "execute_result"
    },
    {
     "data": {
      "text/plain": [
       "<AxesSubplot:>"
      ]
     },
     "execution_count": 246,
     "metadata": {},
     "output_type": "execute_result"
    },
    {
     "data": {
      "text/plain": [
       "<matplotlib.legend.Legend at 0x7fee5d5c3130>"
      ]
     },
     "execution_count": 246,
     "metadata": {},
     "output_type": "execute_result"
    },
    {
     "data": {
      "text/plain": [
       "Text(0, 0.5, 'Brier score')"
      ]
     },
     "execution_count": 246,
     "metadata": {},
     "output_type": "execute_result"
    },
    {
     "data": {
      "image/png": "[encoded data removed]",
      "text/plain": [
       "<Figure size 640x480 with 1 Axes>"
      ]
     },
     "metadata": {},
     "output_type": "display_data"
    }
   ],
   "source": [
    "time_grid = np.linspace(durations_test.min(), durations_test.max(), 10)\n",
    "ev_cdi.integrated_brier_score(time_grid), ev_chi.integrated_brier_score(time_grid)\n",
    "\n",
    "ev_cdi.brier_score(time_grid).rename('CDI').plot()\n",
    "ev_chi.brier_score(time_grid).rename('CHI').plot()\n",
    "plt.legend()\n",
    "plt.ylabel('Brier score')\n",
    "_ = plt.xlabel('Time')\n",
    "plt.show()"
   ]
  },
  {
   "cell_type": "markdown",
   "id": "3c1f7601",
   "metadata": {},
   "source": [
    "### Q2. Hybird NN model with radi feature and 3D CT_img"
   ]
  },
  {
   "cell_type": "code",
   "execution_count": 288,
   "id": "b2d05d8b",
   "metadata": {},
   "outputs": [],
   "source": [
    "# load radiomics data\n",
    "data_radi = pd.read_csv('/Users/peAce/Box/DSexam/Lung1_data/lung1_radiomics.csv')\n",
    "data_radi['ID']  = data_radi['PatientID'].str[-3:]\n",
    "del data_radi['PatientID']\n",
    "data_radi.set_index('ID', inplace=True)\n",
    "# sort data to align with ct_img\n",
    "data_radi.sort_index(inplace=True)\n",
    "\n",
    "# split train test\n",
    "train_data_radi = data_radi.merge(train_id, how='inner', left_index=True, right_index=True)\n",
    "train_data_radi.sort_index(inplace=True) # sort data to align with ct_img\n",
    "del train_data_radi['Train_ID']\n",
    "test_data_radi = data_radi.merge(test_id, how='inner', left_index=True, right_index=True)\n",
    "test_data_radi.sort_index(inplace=True)\n",
    "del test_data_radi['Test_ID']"
   ]
  },
  {
   "cell_type": "code",
   "execution_count": 279,
   "id": "959ecc1d",
   "metadata": {},
   "outputs": [
    {
     "name": "stdout",
     "output_type": "stream",
     "text": [
      "<class 'pandas.core.frame.DataFrame'>\n",
      "RangeIndex: 388 entries, 0 to 387\n",
      "Columns: 798 entries, PatientID to Strength.wavelet.LLL\n",
      "dtypes: float64(793), int64(4), object(1)\n",
      "memory usage: 2.4+ MB\n"
     ]
    },
    {
     "data": {
      "text/plain": [
       "['PatientID',\n",
       " 'Elongation.original',\n",
       " 'Flatness.original',\n",
       " 'LeastAxisLength.original',\n",
       " 'MajorAxisLength.original',\n",
       " 'Maximum2DDiameterColumn.original',\n",
       " 'Maximum2DDiameterRow.original',\n",
       " 'Maximum2DDiameterSlice.original',\n",
       " 'Maximum3DDiameter.original',\n",
       " 'MeshVolume.original',\n",
       " 'MinorAxisLength.original',\n",
       " 'Sphericity.original',\n",
       " 'SurfaceArea.original',\n",
       " 'SurfaceVolumeRatio.original',\n",
       " 'VoxelVolume.original',\n",
       " '10Percentile.original',\n",
       " '90Percentile.original',\n",
       " 'Energy.original',\n",
       " 'Entropy.original',\n",
       " 'InterquartileRange.original',\n",
       " 'Kurtosis.original',\n",
       " 'Maximum.original',\n",
       " 'MeanAbsoluteDeviation.original',\n",
       " 'Mean.original',\n",
       " 'Median.original',\n",
       " 'Minimum.original',\n",
       " 'Range.original',\n",
       " 'RobustMeanAbsoluteDeviation.original',\n",
       " 'RootMeanSquared.original',\n",
       " 'Skewness.original',\n",
       " 'TotalEnergy.original',\n",
       " 'Uniformity.original',\n",
       " 'Variance.original',\n",
       " 'Autocorrelation.original',\n",
       " 'ClusterProminence.original',\n",
       " 'ClusterShade.original',\n",
       " 'ClusterTendency.original',\n",
       " 'Contrast.original',\n",
       " 'Correlation.original',\n",
       " 'DifferenceAverage.original',\n",
       " 'DifferenceEntropy.original',\n",
       " 'DifferenceVariance.original',\n",
       " 'Id.original',\n",
       " 'Idm.original',\n",
       " 'Idmn.original',\n",
       " 'Idn.original',\n",
       " 'Imc1.original',\n",
       " 'Imc2.original',\n",
       " 'InverseVariance.original',\n",
       " 'JointAverage.original',\n",
       " 'JointEnergy.original',\n",
       " 'JointEntropy.original',\n",
       " 'MCC.original',\n",
       " 'MaximumProbability.original',\n",
       " 'SumAverage.original',\n",
       " 'SumEntropy.original',\n",
       " 'SumSquares.original',\n",
       " 'GrayLevelNonUniformity.original',\n",
       " 'GrayLevelNonUniformityNormalized.original',\n",
       " 'GrayLevelVariance.original',\n",
       " 'HighGrayLevelRunEmphasis.original',\n",
       " 'LongRunEmphasis.original',\n",
       " 'LongRunHighGrayLevelEmphasis.original',\n",
       " 'LongRunLowGrayLevelEmphasis.original',\n",
       " 'LowGrayLevelRunEmphasis.original',\n",
       " 'RunEntropy.original',\n",
       " 'RunLengthNonUniformity.original',\n",
       " 'RunLengthNonUniformityNormalized.original',\n",
       " 'RunPercentage.original',\n",
       " 'RunVariance.original',\n",
       " 'ShortRunEmphasis.original',\n",
       " 'ShortRunHighGrayLevelEmphasis.original',\n",
       " 'ShortRunLowGrayLevelEmphasis.original',\n",
       " 'HighGrayLevelZoneEmphasis.original',\n",
       " 'LargeAreaEmphasis.original',\n",
       " 'LargeAreaHighGrayLevelEmphasis.original',\n",
       " 'LargeAreaLowGrayLevelEmphasis.original',\n",
       " 'LowGrayLevelZoneEmphasis.original',\n",
       " 'SizeZoneNonUniformity.original',\n",
       " 'SizeZoneNonUniformityNormalized.original',\n",
       " 'SmallAreaEmphasis.original',\n",
       " 'SmallAreaHighGrayLevelEmphasis.original',\n",
       " 'SmallAreaLowGrayLevelEmphasis.original',\n",
       " 'ZoneEntropy.original',\n",
       " 'ZonePercentage.original',\n",
       " 'ZoneVariance.original',\n",
       " 'DependenceEntropy.original',\n",
       " 'DependenceNonUniformity.original',\n",
       " 'DependenceNonUniformityNormalized.original',\n",
       " 'DependenceVariance.original',\n",
       " 'HighGrayLevelEmphasis.original',\n",
       " 'LargeDependenceEmphasis.original',\n",
       " 'LargeDependenceHighGrayLevelEmphasis.original',\n",
       " 'LargeDependenceLowGrayLevelEmphasis.original',\n",
       " 'LowGrayLevelEmphasis.original',\n",
       " 'SmallDependenceEmphasis.original',\n",
       " 'SmallDependenceHighGrayLevelEmphasis.original',\n",
       " 'SmallDependenceLowGrayLevelEmphasis.original',\n",
       " 'Busyness.original',\n",
       " 'Coarseness.original',\n",
       " 'Complexity.original',\n",
       " 'Strength.original',\n",
       " '10Percentile.wavelet.LLH',\n",
       " '90Percentile.wavelet.LLH',\n",
       " 'Energy.wavelet.LLH',\n",
       " 'Entropy.wavelet.LLH',\n",
       " 'InterquartileRange.wavelet.LLH',\n",
       " 'Kurtosis.wavelet.LLH',\n",
       " 'Maximum.wavelet.LLH',\n",
       " 'MeanAbsoluteDeviation.wavelet.LLH',\n",
       " 'Mean.wavelet.LLH',\n",
       " 'Median.wavelet.LLH',\n",
       " 'Minimum.wavelet.LLH',\n",
       " 'Range.wavelet.LLH',\n",
       " 'RobustMeanAbsoluteDeviation.wavelet.LLH',\n",
       " 'RootMeanSquared.wavelet.LLH',\n",
       " 'Skewness.wavelet.LLH',\n",
       " 'TotalEnergy.wavelet.LLH',\n",
       " 'Uniformity.wavelet.LLH',\n",
       " 'Variance.wavelet.LLH',\n",
       " 'Autocorrelation.wavelet.LLH',\n",
       " 'ClusterProminence.wavelet.LLH',\n",
       " 'ClusterShade.wavelet.LLH',\n",
       " 'ClusterTendency.wavelet.LLH',\n",
       " 'Contrast.wavelet.LLH',\n",
       " 'Correlation.wavelet.LLH',\n",
       " 'DifferenceAverage.wavelet.LLH',\n",
       " 'DifferenceEntropy.wavelet.LLH',\n",
       " 'DifferenceVariance.wavelet.LLH',\n",
       " 'Id.wavelet.LLH',\n",
       " 'Idm.wavelet.LLH',\n",
       " 'Idmn.wavelet.LLH',\n",
       " 'Idn.wavelet.LLH',\n",
       " 'Imc1.wavelet.LLH',\n",
       " 'Imc2.wavelet.LLH',\n",
       " 'InverseVariance.wavelet.LLH',\n",
       " 'JointAverage.wavelet.LLH',\n",
       " 'JointEnergy.wavelet.LLH',\n",
       " 'JointEntropy.wavelet.LLH',\n",
       " 'MCC.wavelet.LLH',\n",
       " 'MaximumProbability.wavelet.LLH',\n",
       " 'SumAverage.wavelet.LLH',\n",
       " 'SumEntropy.wavelet.LLH',\n",
       " 'SumSquares.wavelet.LLH',\n",
       " 'GrayLevelNonUniformity.wavelet.LLH',\n",
       " 'GrayLevelNonUniformityNormalized.wavelet.LLH',\n",
       " 'GrayLevelVariance.wavelet.LLH',\n",
       " 'HighGrayLevelRunEmphasis.wavelet.LLH',\n",
       " 'LongRunEmphasis.wavelet.LLH',\n",
       " 'LongRunHighGrayLevelEmphasis.wavelet.LLH',\n",
       " 'LongRunLowGrayLevelEmphasis.wavelet.LLH',\n",
       " 'LowGrayLevelRunEmphasis.wavelet.LLH',\n",
       " 'RunEntropy.wavelet.LLH',\n",
       " 'RunLengthNonUniformity.wavelet.LLH',\n",
       " 'RunLengthNonUniformityNormalized.wavelet.LLH',\n",
       " 'RunPercentage.wavelet.LLH',\n",
       " 'RunVariance.wavelet.LLH',\n",
       " 'ShortRunEmphasis.wavelet.LLH',\n",
       " 'ShortRunHighGrayLevelEmphasis.wavelet.LLH',\n",
       " 'ShortRunLowGrayLevelEmphasis.wavelet.LLH',\n",
       " 'HighGrayLevelZoneEmphasis.wavelet.LLH',\n",
       " 'LargeAreaEmphasis.wavelet.LLH',\n",
       " 'LargeAreaHighGrayLevelEmphasis.wavelet.LLH',\n",
       " 'LargeAreaLowGrayLevelEmphasis.wavelet.LLH',\n",
       " 'LowGrayLevelZoneEmphasis.wavelet.LLH',\n",
       " 'SizeZoneNonUniformity.wavelet.LLH',\n",
       " 'SizeZoneNonUniformityNormalized.wavelet.LLH',\n",
       " 'SmallAreaEmphasis.wavelet.LLH',\n",
       " 'SmallAreaHighGrayLevelEmphasis.wavelet.LLH',\n",
       " 'SmallAreaLowGrayLevelEmphasis.wavelet.LLH',\n",
       " 'ZoneEntropy.wavelet.LLH',\n",
       " 'ZonePercentage.wavelet.LLH',\n",
       " 'ZoneVariance.wavelet.LLH',\n",
       " 'DependenceEntropy.wavelet.LLH',\n",
       " 'DependenceNonUniformity.wavelet.LLH',\n",
       " 'DependenceNonUniformityNormalized.wavelet.LLH',\n",
       " 'DependenceVariance.wavelet.LLH',\n",
       " 'HighGrayLevelEmphasis.wavelet.LLH',\n",
       " 'LargeDependenceEmphasis.wavelet.LLH',\n",
       " 'LargeDependenceHighGrayLevelEmphasis.wavelet.LLH',\n",
       " 'LargeDependenceLowGrayLevelEmphasis.wavelet.LLH',\n",
       " 'LowGrayLevelEmphasis.wavelet.LLH',\n",
       " 'SmallDependenceEmphasis.wavelet.LLH',\n",
       " 'SmallDependenceHighGrayLevelEmphasis.wavelet.LLH',\n",
       " 'SmallDependenceLowGrayLevelEmphasis.wavelet.LLH',\n",
       " 'Busyness.wavelet.LLH',\n",
       " 'Coarseness.wavelet.LLH',\n",
       " 'Complexity.wavelet.LLH',\n",
       " 'Strength.wavelet.LLH',\n",
       " '10Percentile.wavelet.LHL',\n",
       " '90Percentile.wavelet.LHL',\n",
       " 'Energy.wavelet.LHL',\n",
       " 'Entropy.wavelet.LHL',\n",
       " 'InterquartileRange.wavelet.LHL',\n",
       " 'Kurtosis.wavelet.LHL',\n",
       " 'Maximum.wavelet.LHL',\n",
       " 'MeanAbsoluteDeviation.wavelet.LHL',\n",
       " 'Mean.wavelet.LHL',\n",
       " 'Median.wavelet.LHL',\n",
       " 'Minimum.wavelet.LHL',\n",
       " 'Range.wavelet.LHL',\n",
       " 'RobustMeanAbsoluteDeviation.wavelet.LHL',\n",
       " 'RootMeanSquared.wavelet.LHL',\n",
       " 'Skewness.wavelet.LHL',\n",
       " 'TotalEnergy.wavelet.LHL',\n",
       " 'Uniformity.wavelet.LHL',\n",
       " 'Variance.wavelet.LHL',\n",
       " 'Autocorrelation.wavelet.LHL',\n",
       " 'ClusterProminence.wavelet.LHL',\n",
       " 'ClusterShade.wavelet.LHL',\n",
       " 'ClusterTendency.wavelet.LHL',\n",
       " 'Contrast.wavelet.LHL',\n",
       " 'Correlation.wavelet.LHL',\n",
       " 'DifferenceAverage.wavelet.LHL',\n",
       " 'DifferenceEntropy.wavelet.LHL',\n",
       " 'DifferenceVariance.wavelet.LHL',\n",
       " 'Id.wavelet.LHL',\n",
       " 'Idm.wavelet.LHL',\n",
       " 'Idmn.wavelet.LHL',\n",
       " 'Idn.wavelet.LHL',\n",
       " 'Imc1.wavelet.LHL',\n",
       " 'Imc2.wavelet.LHL',\n",
       " 'InverseVariance.wavelet.LHL',\n",
       " 'JointAverage.wavelet.LHL',\n",
       " 'JointEnergy.wavelet.LHL',\n",
       " 'JointEntropy.wavelet.LHL',\n",
       " 'MCC.wavelet.LHL',\n",
       " 'MaximumProbability.wavelet.LHL',\n",
       " 'SumAverage.wavelet.LHL',\n",
       " 'SumEntropy.wavelet.LHL',\n",
       " 'SumSquares.wavelet.LHL',\n",
       " 'GrayLevelNonUniformity.wavelet.LHL',\n",
       " 'GrayLevelNonUniformityNormalized.wavelet.LHL',\n",
       " 'GrayLevelVariance.wavelet.LHL',\n",
       " 'HighGrayLevelRunEmphasis.wavelet.LHL',\n",
       " 'LongRunEmphasis.wavelet.LHL',\n",
       " 'LongRunHighGrayLevelEmphasis.wavelet.LHL',\n",
       " 'LongRunLowGrayLevelEmphasis.wavelet.LHL',\n",
       " 'LowGrayLevelRunEmphasis.wavelet.LHL',\n",
       " 'RunEntropy.wavelet.LHL',\n",
       " 'RunLengthNonUniformity.wavelet.LHL',\n",
       " 'RunLengthNonUniformityNormalized.wavelet.LHL',\n",
       " 'RunPercentage.wavelet.LHL',\n",
       " 'RunVariance.wavelet.LHL',\n",
       " 'ShortRunEmphasis.wavelet.LHL',\n",
       " 'ShortRunHighGrayLevelEmphasis.wavelet.LHL',\n",
       " 'ShortRunLowGrayLevelEmphasis.wavelet.LHL',\n",
       " 'HighGrayLevelZoneEmphasis.wavelet.LHL',\n",
       " 'LargeAreaEmphasis.wavelet.LHL',\n",
       " 'LargeAreaHighGrayLevelEmphasis.wavelet.LHL',\n",
       " 'LargeAreaLowGrayLevelEmphasis.wavelet.LHL',\n",
       " 'LowGrayLevelZoneEmphasis.wavelet.LHL',\n",
       " 'SizeZoneNonUniformity.wavelet.LHL',\n",
       " 'SizeZoneNonUniformityNormalized.wavelet.LHL',\n",
       " 'SmallAreaEmphasis.wavelet.LHL',\n",
       " 'SmallAreaHighGrayLevelEmphasis.wavelet.LHL',\n",
       " 'SmallAreaLowGrayLevelEmphasis.wavelet.LHL',\n",
       " 'ZoneEntropy.wavelet.LHL',\n",
       " 'ZonePercentage.wavelet.LHL',\n",
       " 'ZoneVariance.wavelet.LHL',\n",
       " 'DependenceEntropy.wavelet.LHL',\n",
       " 'DependenceNonUniformity.wavelet.LHL',\n",
       " 'DependenceNonUniformityNormalized.wavelet.LHL',\n",
       " 'DependenceVariance.wavelet.LHL',\n",
       " 'HighGrayLevelEmphasis.wavelet.LHL',\n",
       " 'LargeDependenceEmphasis.wavelet.LHL',\n",
       " 'LargeDependenceHighGrayLevelEmphasis.wavelet.LHL',\n",
       " 'LargeDependenceLowGrayLevelEmphasis.wavelet.LHL',\n",
       " 'LowGrayLevelEmphasis.wavelet.LHL',\n",
       " 'SmallDependenceEmphasis.wavelet.LHL',\n",
       " 'SmallDependenceHighGrayLevelEmphasis.wavelet.LHL',\n",
       " 'SmallDependenceLowGrayLevelEmphasis.wavelet.LHL',\n",
       " 'Busyness.wavelet.LHL',\n",
       " 'Coarseness.wavelet.LHL',\n",
       " 'Complexity.wavelet.LHL',\n",
       " 'Strength.wavelet.LHL',\n",
       " '10Percentile.wavelet.LHH',\n",
       " '90Percentile.wavelet.LHH',\n",
       " 'Energy.wavelet.LHH',\n",
       " 'Entropy.wavelet.LHH',\n",
       " 'InterquartileRange.wavelet.LHH',\n",
       " 'Kurtosis.wavelet.LHH',\n",
       " 'Maximum.wavelet.LHH',\n",
       " 'MeanAbsoluteDeviation.wavelet.LHH',\n",
       " 'Mean.wavelet.LHH',\n",
       " 'Median.wavelet.LHH',\n",
       " 'Minimum.wavelet.LHH',\n",
       " 'Range.wavelet.LHH',\n",
       " 'RobustMeanAbsoluteDeviation.wavelet.LHH',\n",
       " 'RootMeanSquared.wavelet.LHH',\n",
       " 'Skewness.wavelet.LHH',\n",
       " 'TotalEnergy.wavelet.LHH',\n",
       " 'Uniformity.wavelet.LHH',\n",
       " 'Variance.wavelet.LHH',\n",
       " 'Autocorrelation.wavelet.LHH',\n",
       " 'ClusterProminence.wavelet.LHH',\n",
       " 'ClusterShade.wavelet.LHH',\n",
       " 'ClusterTendency.wavelet.LHH',\n",
       " 'Contrast.wavelet.LHH',\n",
       " 'Correlation.wavelet.LHH',\n",
       " 'DifferenceAverage.wavelet.LHH',\n",
       " 'DifferenceEntropy.wavelet.LHH',\n",
       " 'DifferenceVariance.wavelet.LHH',\n",
       " 'Id.wavelet.LHH',\n",
       " 'Idm.wavelet.LHH',\n",
       " 'Idmn.wavelet.LHH',\n",
       " 'Idn.wavelet.LHH',\n",
       " 'Imc1.wavelet.LHH',\n",
       " 'Imc2.wavelet.LHH',\n",
       " 'InverseVariance.wavelet.LHH',\n",
       " 'JointAverage.wavelet.LHH',\n",
       " 'JointEnergy.wavelet.LHH',\n",
       " 'JointEntropy.wavelet.LHH',\n",
       " 'MCC.wavelet.LHH',\n",
       " 'MaximumProbability.wavelet.LHH',\n",
       " 'SumAverage.wavelet.LHH',\n",
       " 'SumEntropy.wavelet.LHH',\n",
       " 'SumSquares.wavelet.LHH',\n",
       " 'GrayLevelNonUniformity.wavelet.LHH',\n",
       " 'GrayLevelNonUniformityNormalized.wavelet.LHH',\n",
       " 'GrayLevelVariance.wavelet.LHH',\n",
       " 'HighGrayLevelRunEmphasis.wavelet.LHH',\n",
       " 'LongRunEmphasis.wavelet.LHH',\n",
       " 'LongRunHighGrayLevelEmphasis.wavelet.LHH',\n",
       " 'LongRunLowGrayLevelEmphasis.wavelet.LHH',\n",
       " 'LowGrayLevelRunEmphasis.wavelet.LHH',\n",
       " 'RunEntropy.wavelet.LHH',\n",
       " 'RunLengthNonUniformity.wavelet.LHH',\n",
       " 'RunLengthNonUniformityNormalized.wavelet.LHH',\n",
       " 'RunPercentage.wavelet.LHH',\n",
       " 'RunVariance.wavelet.LHH',\n",
       " 'ShortRunEmphasis.wavelet.LHH',\n",
       " 'ShortRunHighGrayLevelEmphasis.wavelet.LHH',\n",
       " 'ShortRunLowGrayLevelEmphasis.wavelet.LHH',\n",
       " 'HighGrayLevelZoneEmphasis.wavelet.LHH',\n",
       " 'LargeAreaEmphasis.wavelet.LHH',\n",
       " 'LargeAreaHighGrayLevelEmphasis.wavelet.LHH',\n",
       " 'LargeAreaLowGrayLevelEmphasis.wavelet.LHH',\n",
       " 'LowGrayLevelZoneEmphasis.wavelet.LHH',\n",
       " 'SizeZoneNonUniformity.wavelet.LHH',\n",
       " 'SizeZoneNonUniformityNormalized.wavelet.LHH',\n",
       " 'SmallAreaEmphasis.wavelet.LHH',\n",
       " 'SmallAreaHighGrayLevelEmphasis.wavelet.LHH',\n",
       " 'SmallAreaLowGrayLevelEmphasis.wavelet.LHH',\n",
       " 'ZoneEntropy.wavelet.LHH',\n",
       " 'ZonePercentage.wavelet.LHH',\n",
       " 'ZoneVariance.wavelet.LHH',\n",
       " 'DependenceEntropy.wavelet.LHH',\n",
       " 'DependenceNonUniformity.wavelet.LHH',\n",
       " 'DependenceNonUniformityNormalized.wavelet.LHH',\n",
       " 'DependenceVariance.wavelet.LHH',\n",
       " 'HighGrayLevelEmphasis.wavelet.LHH',\n",
       " 'LargeDependenceEmphasis.wavelet.LHH',\n",
       " 'LargeDependenceHighGrayLevelEmphasis.wavelet.LHH',\n",
       " 'LargeDependenceLowGrayLevelEmphasis.wavelet.LHH',\n",
       " 'LowGrayLevelEmphasis.wavelet.LHH',\n",
       " 'SmallDependenceEmphasis.wavelet.LHH',\n",
       " 'SmallDependenceHighGrayLevelEmphasis.wavelet.LHH',\n",
       " 'SmallDependenceLowGrayLevelEmphasis.wavelet.LHH',\n",
       " 'Busyness.wavelet.LHH',\n",
       " 'Coarseness.wavelet.LHH',\n",
       " 'Complexity.wavelet.LHH',\n",
       " 'Strength.wavelet.LHH',\n",
       " '10Percentile.wavelet.HLL',\n",
       " '90Percentile.wavelet.HLL',\n",
       " 'Energy.wavelet.HLL',\n",
       " 'Entropy.wavelet.HLL',\n",
       " 'InterquartileRange.wavelet.HLL',\n",
       " 'Kurtosis.wavelet.HLL',\n",
       " 'Maximum.wavelet.HLL',\n",
       " 'MeanAbsoluteDeviation.wavelet.HLL',\n",
       " 'Mean.wavelet.HLL',\n",
       " 'Median.wavelet.HLL',\n",
       " 'Minimum.wavelet.HLL',\n",
       " 'Range.wavelet.HLL',\n",
       " 'RobustMeanAbsoluteDeviation.wavelet.HLL',\n",
       " 'RootMeanSquared.wavelet.HLL',\n",
       " 'Skewness.wavelet.HLL',\n",
       " 'TotalEnergy.wavelet.HLL',\n",
       " 'Uniformity.wavelet.HLL',\n",
       " 'Variance.wavelet.HLL',\n",
       " 'Autocorrelation.wavelet.HLL',\n",
       " 'ClusterProminence.wavelet.HLL',\n",
       " 'ClusterShade.wavelet.HLL',\n",
       " 'ClusterTendency.wavelet.HLL',\n",
       " 'Contrast.wavelet.HLL',\n",
       " 'Correlation.wavelet.HLL',\n",
       " 'DifferenceAverage.wavelet.HLL',\n",
       " 'DifferenceEntropy.wavelet.HLL',\n",
       " 'DifferenceVariance.wavelet.HLL',\n",
       " 'Id.wavelet.HLL',\n",
       " 'Idm.wavelet.HLL',\n",
       " 'Idmn.wavelet.HLL',\n",
       " 'Idn.wavelet.HLL',\n",
       " 'Imc1.wavelet.HLL',\n",
       " 'Imc2.wavelet.HLL',\n",
       " 'InverseVariance.wavelet.HLL',\n",
       " 'JointAverage.wavelet.HLL',\n",
       " 'JointEnergy.wavelet.HLL',\n",
       " 'JointEntropy.wavelet.HLL',\n",
       " 'MCC.wavelet.HLL',\n",
       " 'MaximumProbability.wavelet.HLL',\n",
       " 'SumAverage.wavelet.HLL',\n",
       " 'SumEntropy.wavelet.HLL',\n",
       " 'SumSquares.wavelet.HLL',\n",
       " 'GrayLevelNonUniformity.wavelet.HLL',\n",
       " 'GrayLevelNonUniformityNormalized.wavelet.HLL',\n",
       " 'GrayLevelVariance.wavelet.HLL',\n",
       " 'HighGrayLevelRunEmphasis.wavelet.HLL',\n",
       " 'LongRunEmphasis.wavelet.HLL',\n",
       " 'LongRunHighGrayLevelEmphasis.wavelet.HLL',\n",
       " 'LongRunLowGrayLevelEmphasis.wavelet.HLL',\n",
       " 'LowGrayLevelRunEmphasis.wavelet.HLL',\n",
       " 'RunEntropy.wavelet.HLL',\n",
       " 'RunLengthNonUniformity.wavelet.HLL',\n",
       " 'RunLengthNonUniformityNormalized.wavelet.HLL',\n",
       " 'RunPercentage.wavelet.HLL',\n",
       " 'RunVariance.wavelet.HLL',\n",
       " 'ShortRunEmphasis.wavelet.HLL',\n",
       " 'ShortRunHighGrayLevelEmphasis.wavelet.HLL',\n",
       " 'ShortRunLowGrayLevelEmphasis.wavelet.HLL',\n",
       " 'HighGrayLevelZoneEmphasis.wavelet.HLL',\n",
       " 'LargeAreaEmphasis.wavelet.HLL',\n",
       " 'LargeAreaHighGrayLevelEmphasis.wavelet.HLL',\n",
       " 'LargeAreaLowGrayLevelEmphasis.wavelet.HLL',\n",
       " 'LowGrayLevelZoneEmphasis.wavelet.HLL',\n",
       " 'SizeZoneNonUniformity.wavelet.HLL',\n",
       " 'SizeZoneNonUniformityNormalized.wavelet.HLL',\n",
       " 'SmallAreaEmphasis.wavelet.HLL',\n",
       " 'SmallAreaHighGrayLevelEmphasis.wavelet.HLL',\n",
       " 'SmallAreaLowGrayLevelEmphasis.wavelet.HLL',\n",
       " 'ZoneEntropy.wavelet.HLL',\n",
       " 'ZonePercentage.wavelet.HLL',\n",
       " 'ZoneVariance.wavelet.HLL',\n",
       " 'DependenceEntropy.wavelet.HLL',\n",
       " 'DependenceNonUniformity.wavelet.HLL',\n",
       " 'DependenceNonUniformityNormalized.wavelet.HLL',\n",
       " 'DependenceVariance.wavelet.HLL',\n",
       " 'HighGrayLevelEmphasis.wavelet.HLL',\n",
       " 'LargeDependenceEmphasis.wavelet.HLL',\n",
       " 'LargeDependenceHighGrayLevelEmphasis.wavelet.HLL',\n",
       " 'LargeDependenceLowGrayLevelEmphasis.wavelet.HLL',\n",
       " 'LowGrayLevelEmphasis.wavelet.HLL',\n",
       " 'SmallDependenceEmphasis.wavelet.HLL',\n",
       " 'SmallDependenceHighGrayLevelEmphasis.wavelet.HLL',\n",
       " 'SmallDependenceLowGrayLevelEmphasis.wavelet.HLL',\n",
       " 'Busyness.wavelet.HLL',\n",
       " 'Coarseness.wavelet.HLL',\n",
       " 'Complexity.wavelet.HLL',\n",
       " 'Strength.wavelet.HLL',\n",
       " '10Percentile.wavelet.HLH',\n",
       " '90Percentile.wavelet.HLH',\n",
       " 'Energy.wavelet.HLH',\n",
       " 'Entropy.wavelet.HLH',\n",
       " 'InterquartileRange.wavelet.HLH',\n",
       " 'Kurtosis.wavelet.HLH',\n",
       " 'Maximum.wavelet.HLH',\n",
       " 'MeanAbsoluteDeviation.wavelet.HLH',\n",
       " 'Mean.wavelet.HLH',\n",
       " 'Median.wavelet.HLH',\n",
       " 'Minimum.wavelet.HLH',\n",
       " 'Range.wavelet.HLH',\n",
       " 'RobustMeanAbsoluteDeviation.wavelet.HLH',\n",
       " 'RootMeanSquared.wavelet.HLH',\n",
       " 'Skewness.wavelet.HLH',\n",
       " 'TotalEnergy.wavelet.HLH',\n",
       " 'Uniformity.wavelet.HLH',\n",
       " 'Variance.wavelet.HLH',\n",
       " 'Autocorrelation.wavelet.HLH',\n",
       " 'ClusterProminence.wavelet.HLH',\n",
       " 'ClusterShade.wavelet.HLH',\n",
       " 'ClusterTendency.wavelet.HLH',\n",
       " 'Contrast.wavelet.HLH',\n",
       " 'Correlation.wavelet.HLH',\n",
       " 'DifferenceAverage.wavelet.HLH',\n",
       " 'DifferenceEntropy.wavelet.HLH',\n",
       " 'DifferenceVariance.wavelet.HLH',\n",
       " 'Id.wavelet.HLH',\n",
       " 'Idm.wavelet.HLH',\n",
       " 'Idmn.wavelet.HLH',\n",
       " 'Idn.wavelet.HLH',\n",
       " 'Imc1.wavelet.HLH',\n",
       " 'Imc2.wavelet.HLH',\n",
       " 'InverseVariance.wavelet.HLH',\n",
       " 'JointAverage.wavelet.HLH',\n",
       " 'JointEnergy.wavelet.HLH',\n",
       " 'JointEntropy.wavelet.HLH',\n",
       " 'MCC.wavelet.HLH',\n",
       " 'MaximumProbability.wavelet.HLH',\n",
       " 'SumAverage.wavelet.HLH',\n",
       " 'SumEntropy.wavelet.HLH',\n",
       " 'SumSquares.wavelet.HLH',\n",
       " 'GrayLevelNonUniformity.wavelet.HLH',\n",
       " 'GrayLevelNonUniformityNormalized.wavelet.HLH',\n",
       " 'GrayLevelVariance.wavelet.HLH',\n",
       " 'HighGrayLevelRunEmphasis.wavelet.HLH',\n",
       " 'LongRunEmphasis.wavelet.HLH',\n",
       " 'LongRunHighGrayLevelEmphasis.wavelet.HLH',\n",
       " 'LongRunLowGrayLevelEmphasis.wavelet.HLH',\n",
       " 'LowGrayLevelRunEmphasis.wavelet.HLH',\n",
       " 'RunEntropy.wavelet.HLH',\n",
       " 'RunLengthNonUniformity.wavelet.HLH',\n",
       " 'RunLengthNonUniformityNormalized.wavelet.HLH',\n",
       " 'RunPercentage.wavelet.HLH',\n",
       " 'RunVariance.wavelet.HLH',\n",
       " 'ShortRunEmphasis.wavelet.HLH',\n",
       " 'ShortRunHighGrayLevelEmphasis.wavelet.HLH',\n",
       " 'ShortRunLowGrayLevelEmphasis.wavelet.HLH',\n",
       " 'HighGrayLevelZoneEmphasis.wavelet.HLH',\n",
       " 'LargeAreaEmphasis.wavelet.HLH',\n",
       " 'LargeAreaHighGrayLevelEmphasis.wavelet.HLH',\n",
       " 'LargeAreaLowGrayLevelEmphasis.wavelet.HLH',\n",
       " 'LowGrayLevelZoneEmphasis.wavelet.HLH',\n",
       " 'SizeZoneNonUniformity.wavelet.HLH',\n",
       " 'SizeZoneNonUniformityNormalized.wavelet.HLH',\n",
       " 'SmallAreaEmphasis.wavelet.HLH',\n",
       " 'SmallAreaHighGrayLevelEmphasis.wavelet.HLH',\n",
       " 'SmallAreaLowGrayLevelEmphasis.wavelet.HLH',\n",
       " 'ZoneEntropy.wavelet.HLH',\n",
       " 'ZonePercentage.wavelet.HLH',\n",
       " 'ZoneVariance.wavelet.HLH',\n",
       " 'DependenceEntropy.wavelet.HLH',\n",
       " 'DependenceNonUniformity.wavelet.HLH',\n",
       " 'DependenceNonUniformityNormalized.wavelet.HLH',\n",
       " 'DependenceVariance.wavelet.HLH',\n",
       " 'HighGrayLevelEmphasis.wavelet.HLH',\n",
       " 'LargeDependenceEmphasis.wavelet.HLH',\n",
       " 'LargeDependenceHighGrayLevelEmphasis.wavelet.HLH',\n",
       " 'LargeDependenceLowGrayLevelEmphasis.wavelet.HLH',\n",
       " 'LowGrayLevelEmphasis.wavelet.HLH',\n",
       " 'SmallDependenceEmphasis.wavelet.HLH',\n",
       " 'SmallDependenceHighGrayLevelEmphasis.wavelet.HLH',\n",
       " 'SmallDependenceLowGrayLevelEmphasis.wavelet.HLH',\n",
       " 'Busyness.wavelet.HLH',\n",
       " 'Coarseness.wavelet.HLH',\n",
       " 'Complexity.wavelet.HLH',\n",
       " 'Strength.wavelet.HLH',\n",
       " '10Percentile.wavelet.HHL',\n",
       " '90Percentile.wavelet.HHL',\n",
       " 'Energy.wavelet.HHL',\n",
       " 'Entropy.wavelet.HHL',\n",
       " 'InterquartileRange.wavelet.HHL',\n",
       " 'Kurtosis.wavelet.HHL',\n",
       " 'Maximum.wavelet.HHL',\n",
       " 'MeanAbsoluteDeviation.wavelet.HHL',\n",
       " 'Mean.wavelet.HHL',\n",
       " 'Median.wavelet.HHL',\n",
       " 'Minimum.wavelet.HHL',\n",
       " 'Range.wavelet.HHL',\n",
       " 'RobustMeanAbsoluteDeviation.wavelet.HHL',\n",
       " 'RootMeanSquared.wavelet.HHL',\n",
       " 'Skewness.wavelet.HHL',\n",
       " 'TotalEnergy.wavelet.HHL',\n",
       " 'Uniformity.wavelet.HHL',\n",
       " 'Variance.wavelet.HHL',\n",
       " 'Autocorrelation.wavelet.HHL',\n",
       " 'ClusterProminence.wavelet.HHL',\n",
       " 'ClusterShade.wavelet.HHL',\n",
       " 'ClusterTendency.wavelet.HHL',\n",
       " 'Contrast.wavelet.HHL',\n",
       " 'Correlation.wavelet.HHL',\n",
       " 'DifferenceAverage.wavelet.HHL',\n",
       " 'DifferenceEntropy.wavelet.HHL',\n",
       " 'DifferenceVariance.wavelet.HHL',\n",
       " 'Id.wavelet.HHL',\n",
       " 'Idm.wavelet.HHL',\n",
       " 'Idmn.wavelet.HHL',\n",
       " 'Idn.wavelet.HHL',\n",
       " 'Imc1.wavelet.HHL',\n",
       " 'Imc2.wavelet.HHL',\n",
       " 'InverseVariance.wavelet.HHL',\n",
       " 'JointAverage.wavelet.HHL',\n",
       " 'JointEnergy.wavelet.HHL',\n",
       " 'JointEntropy.wavelet.HHL',\n",
       " 'MCC.wavelet.HHL',\n",
       " 'MaximumProbability.wavelet.HHL',\n",
       " 'SumAverage.wavelet.HHL',\n",
       " 'SumEntropy.wavelet.HHL',\n",
       " 'SumSquares.wavelet.HHL',\n",
       " 'GrayLevelNonUniformity.wavelet.HHL',\n",
       " 'GrayLevelNonUniformityNormalized.wavelet.HHL',\n",
       " 'GrayLevelVariance.wavelet.HHL',\n",
       " 'HighGrayLevelRunEmphasis.wavelet.HHL',\n",
       " 'LongRunEmphasis.wavelet.HHL',\n",
       " 'LongRunHighGrayLevelEmphasis.wavelet.HHL',\n",
       " 'LongRunLowGrayLevelEmphasis.wavelet.HHL',\n",
       " 'LowGrayLevelRunEmphasis.wavelet.HHL',\n",
       " 'RunEntropy.wavelet.HHL',\n",
       " 'RunLengthNonUniformity.wavelet.HHL',\n",
       " 'RunLengthNonUniformityNormalized.wavelet.HHL',\n",
       " 'RunPercentage.wavelet.HHL',\n",
       " 'RunVariance.wavelet.HHL',\n",
       " 'ShortRunEmphasis.wavelet.HHL',\n",
       " 'ShortRunHighGrayLevelEmphasis.wavelet.HHL',\n",
       " 'ShortRunLowGrayLevelEmphasis.wavelet.HHL',\n",
       " 'HighGrayLevelZoneEmphasis.wavelet.HHL',\n",
       " 'LargeAreaEmphasis.wavelet.HHL',\n",
       " 'LargeAreaHighGrayLevelEmphasis.wavelet.HHL',\n",
       " 'LargeAreaLowGrayLevelEmphasis.wavelet.HHL',\n",
       " 'LowGrayLevelZoneEmphasis.wavelet.HHL',\n",
       " 'SizeZoneNonUniformity.wavelet.HHL',\n",
       " 'SizeZoneNonUniformityNormalized.wavelet.HHL',\n",
       " 'SmallAreaEmphasis.wavelet.HHL',\n",
       " 'SmallAreaHighGrayLevelEmphasis.wavelet.HHL',\n",
       " 'SmallAreaLowGrayLevelEmphasis.wavelet.HHL',\n",
       " 'ZoneEntropy.wavelet.HHL',\n",
       " 'ZonePercentage.wavelet.HHL',\n",
       " 'ZoneVariance.wavelet.HHL',\n",
       " 'DependenceEntropy.wavelet.HHL',\n",
       " 'DependenceNonUniformity.wavelet.HHL',\n",
       " 'DependenceNonUniformityNormalized.wavelet.HHL',\n",
       " 'DependenceVariance.wavelet.HHL',\n",
       " 'HighGrayLevelEmphasis.wavelet.HHL',\n",
       " 'LargeDependenceEmphasis.wavelet.HHL',\n",
       " 'LargeDependenceHighGrayLevelEmphasis.wavelet.HHL',\n",
       " 'LargeDependenceLowGrayLevelEmphasis.wavelet.HHL',\n",
       " 'LowGrayLevelEmphasis.wavelet.HHL',\n",
       " 'SmallDependenceEmphasis.wavelet.HHL',\n",
       " 'SmallDependenceHighGrayLevelEmphasis.wavelet.HHL',\n",
       " 'SmallDependenceLowGrayLevelEmphasis.wavelet.HHL',\n",
       " 'Busyness.wavelet.HHL',\n",
       " 'Coarseness.wavelet.HHL',\n",
       " 'Complexity.wavelet.HHL',\n",
       " 'Strength.wavelet.HHL',\n",
       " '10Percentile.wavelet.HHH',\n",
       " '90Percentile.wavelet.HHH',\n",
       " 'Energy.wavelet.HHH',\n",
       " 'Entropy.wavelet.HHH',\n",
       " 'InterquartileRange.wavelet.HHH',\n",
       " 'Kurtosis.wavelet.HHH',\n",
       " 'Maximum.wavelet.HHH',\n",
       " 'MeanAbsoluteDeviation.wavelet.HHH',\n",
       " 'Mean.wavelet.HHH',\n",
       " 'Median.wavelet.HHH',\n",
       " 'Minimum.wavelet.HHH',\n",
       " 'Range.wavelet.HHH',\n",
       " 'RobustMeanAbsoluteDeviation.wavelet.HHH',\n",
       " 'RootMeanSquared.wavelet.HHH',\n",
       " 'Skewness.wavelet.HHH',\n",
       " 'TotalEnergy.wavelet.HHH',\n",
       " 'Uniformity.wavelet.HHH',\n",
       " 'Variance.wavelet.HHH',\n",
       " 'Autocorrelation.wavelet.HHH',\n",
       " 'ClusterProminence.wavelet.HHH',\n",
       " 'ClusterShade.wavelet.HHH',\n",
       " 'ClusterTendency.wavelet.HHH',\n",
       " 'Contrast.wavelet.HHH',\n",
       " 'Correlation.wavelet.HHH',\n",
       " 'DifferenceAverage.wavelet.HHH',\n",
       " 'DifferenceEntropy.wavelet.HHH',\n",
       " 'DifferenceVariance.wavelet.HHH',\n",
       " 'Id.wavelet.HHH',\n",
       " 'Idm.wavelet.HHH',\n",
       " 'Idmn.wavelet.HHH',\n",
       " 'Idn.wavelet.HHH',\n",
       " 'Imc1.wavelet.HHH',\n",
       " 'Imc2.wavelet.HHH',\n",
       " 'InverseVariance.wavelet.HHH',\n",
       " 'JointAverage.wavelet.HHH',\n",
       " 'JointEnergy.wavelet.HHH',\n",
       " 'JointEntropy.wavelet.HHH',\n",
       " 'MCC.wavelet.HHH',\n",
       " 'MaximumProbability.wavelet.HHH',\n",
       " 'SumAverage.wavelet.HHH',\n",
       " 'SumEntropy.wavelet.HHH',\n",
       " 'SumSquares.wavelet.HHH',\n",
       " 'GrayLevelNonUniformity.wavelet.HHH',\n",
       " 'GrayLevelNonUniformityNormalized.wavelet.HHH',\n",
       " 'GrayLevelVariance.wavelet.HHH',\n",
       " 'HighGrayLevelRunEmphasis.wavelet.HHH',\n",
       " 'LongRunEmphasis.wavelet.HHH',\n",
       " 'LongRunHighGrayLevelEmphasis.wavelet.HHH',\n",
       " 'LongRunLowGrayLevelEmphasis.wavelet.HHH',\n",
       " 'LowGrayLevelRunEmphasis.wavelet.HHH',\n",
       " 'RunEntropy.wavelet.HHH',\n",
       " 'RunLengthNonUniformity.wavelet.HHH',\n",
       " 'RunLengthNonUniformityNormalized.wavelet.HHH',\n",
       " 'RunPercentage.wavelet.HHH',\n",
       " 'RunVariance.wavelet.HHH',\n",
       " 'ShortRunEmphasis.wavelet.HHH',\n",
       " 'ShortRunHighGrayLevelEmphasis.wavelet.HHH',\n",
       " 'ShortRunLowGrayLevelEmphasis.wavelet.HHH',\n",
       " 'HighGrayLevelZoneEmphasis.wavelet.HHH',\n",
       " 'LargeAreaEmphasis.wavelet.HHH',\n",
       " 'LargeAreaHighGrayLevelEmphasis.wavelet.HHH',\n",
       " 'LargeAreaLowGrayLevelEmphasis.wavelet.HHH',\n",
       " 'LowGrayLevelZoneEmphasis.wavelet.HHH',\n",
       " 'SizeZoneNonUniformity.wavelet.HHH',\n",
       " 'SizeZoneNonUniformityNormalized.wavelet.HHH',\n",
       " 'SmallAreaEmphasis.wavelet.HHH',\n",
       " 'SmallAreaHighGrayLevelEmphasis.wavelet.HHH',\n",
       " 'SmallAreaLowGrayLevelEmphasis.wavelet.HHH',\n",
       " 'ZoneEntropy.wavelet.HHH',\n",
       " 'ZonePercentage.wavelet.HHH',\n",
       " 'ZoneVariance.wavelet.HHH',\n",
       " 'DependenceEntropy.wavelet.HHH',\n",
       " 'DependenceNonUniformity.wavelet.HHH',\n",
       " 'DependenceNonUniformityNormalized.wavelet.HHH',\n",
       " 'DependenceVariance.wavelet.HHH',\n",
       " 'HighGrayLevelEmphasis.wavelet.HHH',\n",
       " 'LargeDependenceEmphasis.wavelet.HHH',\n",
       " 'LargeDependenceHighGrayLevelEmphasis.wavelet.HHH',\n",
       " 'LargeDependenceLowGrayLevelEmphasis.wavelet.HHH',\n",
       " 'LowGrayLevelEmphasis.wavelet.HHH',\n",
       " 'SmallDependenceEmphasis.wavelet.HHH',\n",
       " 'SmallDependenceHighGrayLevelEmphasis.wavelet.HHH',\n",
       " 'SmallDependenceLowGrayLevelEmphasis.wavelet.HHH',\n",
       " 'Busyness.wavelet.HHH',\n",
       " 'Coarseness.wavelet.HHH',\n",
       " 'Complexity.wavelet.HHH',\n",
       " 'Strength.wavelet.HHH',\n",
       " '10Percentile.wavelet.LLL',\n",
       " '90Percentile.wavelet.LLL',\n",
       " 'Energy.wavelet.LLL',\n",
       " 'Entropy.wavelet.LLL',\n",
       " 'InterquartileRange.wavelet.LLL',\n",
       " 'Kurtosis.wavelet.LLL',\n",
       " 'Maximum.wavelet.LLL',\n",
       " 'MeanAbsoluteDeviation.wavelet.LLL',\n",
       " 'Mean.wavelet.LLL',\n",
       " 'Median.wavelet.LLL',\n",
       " 'Minimum.wavelet.LLL',\n",
       " 'Range.wavelet.LLL',\n",
       " 'RobustMeanAbsoluteDeviation.wavelet.LLL',\n",
       " 'RootMeanSquared.wavelet.LLL',\n",
       " 'Skewness.wavelet.LLL',\n",
       " 'TotalEnergy.wavelet.LLL',\n",
       " 'Uniformity.wavelet.LLL',\n",
       " 'Variance.wavelet.LLL',\n",
       " 'Autocorrelation.wavelet.LLL',\n",
       " 'ClusterProminence.wavelet.LLL',\n",
       " 'ClusterShade.wavelet.LLL',\n",
       " 'ClusterTendency.wavelet.LLL',\n",
       " 'Contrast.wavelet.LLL',\n",
       " 'Correlation.wavelet.LLL',\n",
       " 'DifferenceAverage.wavelet.LLL',\n",
       " 'DifferenceEntropy.wavelet.LLL',\n",
       " 'DifferenceVariance.wavelet.LLL',\n",
       " 'Id.wavelet.LLL',\n",
       " 'Idm.wavelet.LLL',\n",
       " 'Idmn.wavelet.LLL',\n",
       " 'Idn.wavelet.LLL',\n",
       " 'Imc1.wavelet.LLL',\n",
       " 'Imc2.wavelet.LLL',\n",
       " 'InverseVariance.wavelet.LLL',\n",
       " 'JointAverage.wavelet.LLL',\n",
       " 'JointEnergy.wavelet.LLL',\n",
       " 'JointEntropy.wavelet.LLL',\n",
       " 'MCC.wavelet.LLL',\n",
       " 'MaximumProbability.wavelet.LLL',\n",
       " 'SumAverage.wavelet.LLL',\n",
       " 'SumEntropy.wavelet.LLL',\n",
       " 'SumSquares.wavelet.LLL',\n",
       " 'GrayLevelNonUniformity.wavelet.LLL',\n",
       " 'GrayLevelNonUniformityNormalized.wavelet.LLL',\n",
       " 'GrayLevelVariance.wavelet.LLL',\n",
       " 'HighGrayLevelRunEmphasis.wavelet.LLL',\n",
       " 'LongRunEmphasis.wavelet.LLL',\n",
       " 'LongRunHighGrayLevelEmphasis.wavelet.LLL',\n",
       " 'LongRunLowGrayLevelEmphasis.wavelet.LLL',\n",
       " 'LowGrayLevelRunEmphasis.wavelet.LLL',\n",
       " 'RunEntropy.wavelet.LLL',\n",
       " 'RunLengthNonUniformity.wavelet.LLL',\n",
       " 'RunLengthNonUniformityNormalized.wavelet.LLL',\n",
       " 'RunPercentage.wavelet.LLL',\n",
       " 'RunVariance.wavelet.LLL',\n",
       " 'ShortRunEmphasis.wavelet.LLL',\n",
       " 'ShortRunHighGrayLevelEmphasis.wavelet.LLL',\n",
       " 'ShortRunLowGrayLevelEmphasis.wavelet.LLL',\n",
       " 'HighGrayLevelZoneEmphasis.wavelet.LLL',\n",
       " 'LargeAreaEmphasis.wavelet.LLL',\n",
       " 'LargeAreaHighGrayLevelEmphasis.wavelet.LLL',\n",
       " 'LargeAreaLowGrayLevelEmphasis.wavelet.LLL',\n",
       " 'LowGrayLevelZoneEmphasis.wavelet.LLL',\n",
       " 'SizeZoneNonUniformity.wavelet.LLL',\n",
       " 'SizeZoneNonUniformityNormalized.wavelet.LLL',\n",
       " 'SmallAreaEmphasis.wavelet.LLL',\n",
       " 'SmallAreaHighGrayLevelEmphasis.wavelet.LLL',\n",
       " 'SmallAreaLowGrayLevelEmphasis.wavelet.LLL',\n",
       " 'ZoneEntropy.wavelet.LLL',\n",
       " 'ZonePercentage.wavelet.LLL',\n",
       " 'ZoneVariance.wavelet.LLL',\n",
       " 'DependenceEntropy.wavelet.LLL',\n",
       " 'DependenceNonUniformity.wavelet.LLL',\n",
       " 'DependenceNonUniformityNormalized.wavelet.LLL',\n",
       " 'DependenceVariance.wavelet.LLL',\n",
       " 'HighGrayLevelEmphasis.wavelet.LLL',\n",
       " 'LargeDependenceEmphasis.wavelet.LLL',\n",
       " 'LargeDependenceHighGrayLevelEmphasis.wavelet.LLL',\n",
       " 'LargeDependenceLowGrayLevelEmphasis.wavelet.LLL',\n",
       " 'LowGrayLevelEmphasis.wavelet.LLL',\n",
       " 'SmallDependenceEmphasis.wavelet.LLL',\n",
       " 'SmallDependenceHighGrayLevelEmphasis.wavelet.LLL',\n",
       " 'SmallDependenceLowGrayLevelEmphasis.wavelet.LLL',\n",
       " 'Busyness.wavelet.LLL',\n",
       " 'Coarseness.wavelet.LLL',\n",
       " 'Complexity.wavelet.LLL',\n",
       " 'Strength.wavelet.LLL']"
      ]
     },
     "execution_count": 279,
     "metadata": {},
     "output_type": "execute_result"
    }
   ],
   "source": [
    "# quick overview - check na column\n",
    "data_radi.info()\n",
    "list(data_radi.columns)\n",
    "data_radi.iloc[0:5,0:10]"
   ]
  },
  {
   "cell_type": "code",
   "execution_count": 276,
   "id": "17ba9351",
   "metadata": {},
   "outputs": [
    {
     "data": {
      "text/html": [
       "<div>\n",
       "<style scoped>\n",
       "    .dataframe tbody tr th:only-of-type {\n",
       "        vertical-align: middle;\n",
       "    }\n",
       "\n",
       "    .dataframe tbody tr th {\n",
       "        vertical-align: top;\n",
       "    }\n",
       "\n",
       "    .dataframe thead th {\n",
       "        text-align: right;\n",
       "    }\n",
       "</style>\n",
       "<table border=\"1\" class=\"dataframe\">\n",
       "  <thead>\n",
       "    <tr style=\"text-align: right;\">\n",
       "      <th></th>\n",
       "      <th>Energy.original</th>\n",
       "      <th>Maximum.original</th>\n",
       "      <th>Minimum.original</th>\n",
       "      <th>Range.original</th>\n",
       "    </tr>\n",
       "  </thead>\n",
       "  <tbody>\n",
       "    <tr>\n",
       "      <th>0</th>\n",
       "      <td>2426653817</td>\n",
       "      <td>1040</td>\n",
       "      <td>-1021</td>\n",
       "      <td>2061</td>\n",
       "    </tr>\n",
       "    <tr>\n",
       "      <th>1</th>\n",
       "      <td>7280392250</td>\n",
       "      <td>575</td>\n",
       "      <td>-1024</td>\n",
       "      <td>1599</td>\n",
       "    </tr>\n",
       "    <tr>\n",
       "      <th>2</th>\n",
       "      <td>854504320</td>\n",
       "      <td>230</td>\n",
       "      <td>-909</td>\n",
       "      <td>1139</td>\n",
       "    </tr>\n",
       "    <tr>\n",
       "      <th>3</th>\n",
       "      <td>866521876</td>\n",
       "      <td>607</td>\n",
       "      <td>-994</td>\n",
       "      <td>1601</td>\n",
       "    </tr>\n",
       "    <tr>\n",
       "      <th>4</th>\n",
       "      <td>1014806238</td>\n",
       "      <td>2621</td>\n",
       "      <td>-1024</td>\n",
       "      <td>3645</td>\n",
       "    </tr>\n",
       "  </tbody>\n",
       "</table>\n",
       "</div>"
      ],
      "text/plain": [
       "   Energy.original  Maximum.original  Minimum.original  Range.original\n",
       "0       2426653817              1040             -1021            2061\n",
       "1       7280392250               575             -1024            1599\n",
       "2        854504320               230              -909            1139\n",
       "3        866521876               607              -994            1601\n",
       "4       1014806238              2621             -1024            3645"
      ]
     },
     "execution_count": 276,
     "metadata": {},
     "output_type": "execute_result"
    }
   ],
   "source": [
    "# dummies or not? - no\n",
    "data_radi.select_dtypes('int64').head()"
   ]
  },
  {
   "cell_type": "markdown",
   "id": "1c6be481",
   "metadata": {},
   "source": [
    "##### RF model for feature selection"
   ]
  },
  {
   "cell_type": "code",
   "execution_count": 290,
   "id": "fcb60004",
   "metadata": {},
   "outputs": [],
   "source": [
    "# y for RF\n",
    "RF_y_train_time = train_data['Survival.time'].values\n",
    "RF_y_train_event = train_data['deadstatus.event'].values\n",
    "RF_y_test_time = test_data['Survival.time'].values\n",
    "RF_y_test_event = test_data['deadstatus.event'].values"
   ]
  },
  {
   "cell_type": "code",
   "execution_count": 322,
   "id": "646ed8e3",
   "metadata": {},
   "outputs": [
    {
     "name": "stdout",
     "output_type": "stream",
     "text": [
      "Fitting 3 folds for each of 10 candidates, totalling 30 fits\n"
     ]
    },
    {
     "data": {
      "text/plain": [
       "RandomizedSearchCV(cv=3, estimator=RandomForestClassifier(), n_jobs=-1,\n",
       "                   param_distributions={'max_depth': [20, 28, 36, 44, 52, 60,\n",
       "                                                      68, 76, 84, 92, 100],\n",
       "                                        'max_features': ['auto', 'log2', 50],\n",
       "                                        'n_estimators': [200, 230, 260, 290,\n",
       "                                                         320, 350, 380, 410,\n",
       "                                                         440, 470, 500]},\n",
       "                   random_state=101, verbose=2)"
      ]
     },
     "execution_count": 322,
     "metadata": {},
     "output_type": "execute_result"
    },
    {
     "data": {
      "text/plain": [
       "{'n_estimators': 410, 'max_features': 50, 'max_depth': 44}"
      ]
     },
     "execution_count": 322,
     "metadata": {},
     "output_type": "execute_result"
    }
   ],
   "source": [
    "# RF event\n",
    "# grid serach for best parameters\n",
    "n_estimators = [int(x) for x in np.linspace(200, 500, 11)]\n",
    "max_features = ['auto', 'log2', 50]\n",
    "max_depths = [int(x) for x in np.linspace(20, 100, 11)]\n",
    "\n",
    "random_grid = {'n_estimators': n_estimators,\n",
    "               'max_features': max_features,\n",
    "               'max_depth': max_depths}\n",
    "\n",
    "rf_event = RandomForestClassifier()\n",
    "rf_event_search = RandomizedSearchCV(estimator = rf_event, \n",
    "                               param_distributions = random_grid, \n",
    "                               n_iter = 50, cv = 3, \n",
    "                               verbose=2, \n",
    "                               random_state=101, \n",
    "                               n_jobs = -1)\n",
    "rf_event_search.fit(train_data_radi, RF_y_train_event)\n",
    "rf_event_search.best_params_"
   ]
  },
  {
   "cell_type": "code",
   "execution_count": 323,
   "id": "444f37e0",
   "metadata": {},
   "outputs": [
    {
     "data": {
      "text/plain": [
       "RandomForestClassifier(max_depth=44, max_features=50, n_estimators=410,\n",
       "                       n_jobs=-1)"
      ]
     },
     "execution_count": 323,
     "metadata": {},
     "output_type": "execute_result"
    }
   ],
   "source": [
    "# RF-event fit best RF and get most significant features\n",
    "rf_event = RandomForestClassifier(n_estimators=410, \n",
    "                                  max_features=50, \n",
    "                                  max_depth=44, n_jobs = -1)\n",
    "rf_event.fit(train_data_radi, RF_y_train_event)"
   ]
  },
  {
   "cell_type": "code",
   "execution_count": 324,
   "id": "6d95d118",
   "metadata": {},
   "outputs": [
    {
     "name": "stdout",
     "output_type": "stream",
     "text": [
      "[[16 24]\n",
      " [14 42]]\n",
      "              precision    recall  f1-score   support\n",
      "\n",
      "           0       0.53      0.40      0.46        40\n",
      "           1       0.64      0.75      0.69        56\n",
      "\n",
      "    accuracy                           0.60        96\n",
      "   macro avg       0.58      0.57      0.57        96\n",
      "weighted avg       0.59      0.60      0.59        96\n",
      "\n"
     ]
    }
   ],
   "source": [
    "# Eval\n",
    "rf_event_pred = rf_event.predict(test_data_radi)\n",
    "print(confusion_matrix(RF_y_test_event,rf_event_pred))\n",
    "print(classification_report(RF_y_test_event,rf_event_pred))"
   ]
  },
  {
   "cell_type": "code",
   "execution_count": null,
   "id": "6cb93475",
   "metadata": {},
   "outputs": [],
   "source": [
    "# feature importance\n",
    "feats = {} # a dict to hold feature_name: feature_importance\n",
    "for feature, importance in zip(train_data_radi.columns, rf_event.feature_importances_):\n",
    "    feats[feature] = importance #add the name/value pair \n",
    "\n",
    "importances = pd.DataFrame.from_dict(feats, orient='index').rename(columns={0: 'Gini-importance'})\n",
    "importances.sort_values(by='Gini-importance', ascending=False).plot(kind='bar', rot=45)\n",
    "plt.show()\n"
   ]
  },
  {
   "cell_type": "code",
   "execution_count": null,
   "id": "82cfa1fd",
   "metadata": {},
   "outputs": [],
   "source": [
    "importances.sort_values(by='Gini-importance', ascending=False, inplace=True)\n",
    "importances.head(20)\n",
    "event_impt_list = importances.head(20).index.tolist()\n",
    "event_impt_list"
   ]
  },
  {
   "cell_type": "code",
   "execution_count": 445,
   "id": "ddcecb1b",
   "metadata": {},
   "outputs": [
    {
     "data": {
      "text/plain": [
       "<Figure size 792x360 with 0 Axes>"
      ]
     },
     "execution_count": 445,
     "metadata": {},
     "output_type": "execute_result"
    },
    {
     "data": {
      "text/plain": [
       "<AxesSubplot:>"
      ]
     },
     "execution_count": 445,
     "metadata": {},
     "output_type": "execute_result"
    },
    {
     "data": {
      "image/png": "[encoded data removed]",
      "text/plain": [
       "<Figure size 792x360 with 2 Axes>"
      ]
     },
     "metadata": {},
     "output_type": "display_data"
    }
   ],
   "source": [
    "# plot corr \n",
    "plt.figure(figsize=(11,5))\n",
    "corr_check = data_radi[event_impt_list].corr()\n",
    "sns.heatmap(corr_check, cmap=\"coolwarm\",annot=False)\n",
    "corr_check.to_excel('corr_check_event.xlsx')"
   ]
  },
  {
   "cell_type": "code",
   "execution_count": 465,
   "id": "860d92c2",
   "metadata": {},
   "outputs": [
    {
     "name": "stdout",
     "output_type": "stream",
     "text": [
      "Fitting 3 folds for each of 50 candidates, totalling 150 fits\n"
     ]
    },
    {
     "data": {
      "text/plain": [
       "RandomizedSearchCV(cv=3, estimator=RandomForestClassifier(), n_iter=50,\n",
       "                   n_jobs=-1,\n",
       "                   param_distributions={'max_depth': [20, 28, 36, 44, 52, 60,\n",
       "                                                      68, 76, 84, 92, 100],\n",
       "                                        'max_features': ['sqrt', 'log2', 15],\n",
       "                                        'n_estimators': [200, 230, 260, 290,\n",
       "                                                         320, 350, 380, 410,\n",
       "                                                         440, 470, 500]},\n",
       "                   random_state=101, verbose=2)"
      ]
     },
     "execution_count": 465,
     "metadata": {},
     "output_type": "execute_result"
    },
    {
     "data": {
      "text/plain": [
       "{'n_estimators': 380, 'max_features': 'log2', 'max_depth': 68}"
      ]
     },
     "execution_count": 465,
     "metadata": {},
     "output_type": "execute_result"
    }
   ],
   "source": [
    "# Remove high correlated columns and refit\n",
    "event_impt_list_refine = [item for item in event_impt_list if item not in ['Imc2.wavelet.HHH',\n",
    "'Imc2.wavelet.HHH',\n",
    "'Imc1.wavelet.HHH',\n",
    "'DifferenceVariance.wavelet.LLL',\n",
    "'SmallAreaEmphasis.wavelet.HLH',\n",
    "'Energy.wavelet.LLL']]\n",
    "\n",
    "# grid serach for best parameters\n",
    "x = train_data_radi[event_impt_list_refine]\n",
    "n_estimators = [int(x) for x in np.linspace(200, 500, 11)]\n",
    "max_features = ['sqrt','log2',15]\n",
    "max_depths = [int(x) for x in np.linspace(20, 100, 11)]\n",
    "\n",
    "random_grid = {'n_estimators': n_estimators,\n",
    "               'max_features': max_features,\n",
    "               'max_depth': max_depths}\n",
    "\n",
    "rf_event = RandomForestClassifier()\n",
    "rf_event_search = RandomizedSearchCV(estimator = rf_event, \n",
    "                               param_distributions = random_grid, \n",
    "                               n_iter = 50, cv = 3, \n",
    "                               verbose=2, \n",
    "                               random_state=101, \n",
    "                               n_jobs = -1)\n",
    "rf_event_search.fit(x, RF_y_train_event)\n",
    "rf_event_search.best_params_\n"
   ]
  },
  {
   "cell_type": "code",
   "execution_count": 466,
   "id": "19deb088",
   "metadata": {},
   "outputs": [
    {
     "data": {
      "text/plain": [
       "RandomForestClassifier(max_depth=68, max_features='log2', n_estimators=380,\n",
       "                       n_jobs=-1)"
      ]
     },
     "execution_count": 466,
     "metadata": {},
     "output_type": "execute_result"
    },
    {
     "name": "stdout",
     "output_type": "stream",
     "text": [
      "[[15 25]\n",
      " [11 45]]\n",
      "              precision    recall  f1-score   support\n",
      "\n",
      "           0       0.58      0.38      0.45        40\n",
      "           1       0.64      0.80      0.71        56\n",
      "\n",
      "    accuracy                           0.62        96\n",
      "   macro avg       0.61      0.59      0.58        96\n",
      "weighted avg       0.62      0.62      0.61        96\n",
      "\n"
     ]
    }
   ],
   "source": [
    "# RF-event with refined features\n",
    "x = train_data_radi[event_impt_list_refine]\n",
    "rf_event = RandomForestClassifier(n_estimators=380, \n",
    "                                  max_features='log2', \n",
    "                                  max_depth=68, n_jobs = -1)\n",
    "rf_event.fit(x, RF_y_train_event)\n",
    "\n",
    "# Eval\n",
    "x = test_data_radi[event_impt_list_refine]\n",
    "rf_event_pred = rf_event.predict(x)\n",
    "print(confusion_matrix(RF_y_test_event,rf_event_pred))\n",
    "print(classification_report(RF_y_test_event,rf_event_pred))"
   ]
  },
  {
   "cell_type": "code",
   "execution_count": 331,
   "id": "2152fd3b",
   "metadata": {},
   "outputs": [
    {
     "name": "stdout",
     "output_type": "stream",
     "text": [
      "Fitting 3 folds for each of 50 candidates, totalling 150 fits\n"
     ]
    },
    {
     "data": {
      "text/plain": [
       "RandomizedSearchCV(cv=3, estimator=RandomForestRegressor(), n_iter=50,\n",
       "                   n_jobs=-1,\n",
       "                   param_distributions={'criterion': ['poisson'],\n",
       "                                        'max_depth': [20, 28, 36, 44, 52, 60,\n",
       "                                                      68, 76, 84, 92, 100],\n",
       "                                        'max_features': ['auto', 'log2', 50],\n",
       "                                        'n_estimators': [200, 230, 260, 290,\n",
       "                                                         320, 350, 380, 410,\n",
       "                                                         440, 470, 500]},\n",
       "                   random_state=101, verbose=2)"
      ]
     },
     "execution_count": 331,
     "metadata": {},
     "output_type": "execute_result"
    },
    {
     "data": {
      "text/plain": [
       "{'n_estimators': 320,\n",
       " 'max_features': 'log2',\n",
       " 'max_depth': 20,\n",
       " 'criterion': 'poisson'}"
      ]
     },
     "execution_count": 331,
     "metadata": {},
     "output_type": "execute_result"
    }
   ],
   "source": [
    "# RF survival time\n",
    "# grid serach for best parameters\n",
    "n_estimators = [int(x) for x in np.linspace(200, 500, 11)]\n",
    "criterion = ['poisson']\n",
    "max_features = ['auto', 'log2', 50]\n",
    "max_depths = [int(x) for x in np.linspace(20, 100, 11)]\n",
    "\n",
    "random_grid = {'n_estimators': n_estimators,\n",
    "               'criterion': criterion,\n",
    "               'max_features': max_features,\n",
    "               'max_depth': max_depths}\n",
    "\n",
    "rf_time = RandomForestRegressor()\n",
    "rf_time_search = RandomizedSearchCV(estimator = rf_time, \n",
    "                               param_distributions = random_grid, \n",
    "                               n_iter = 50, cv = 3, \n",
    "                               verbose=2, \n",
    "                               random_state=101, \n",
    "                               n_jobs = -1)\n",
    "rf_time_search.fit(train_data_radi, RF_y_train_time)\n",
    "rf_time_search.best_params_"
   ]
  },
  {
   "cell_type": "code",
   "execution_count": 332,
   "id": "22ac5a8a",
   "metadata": {},
   "outputs": [
    {
     "data": {
      "text/plain": [
       "RandomForestRegressor(criterion='poisson', max_depth=20, max_features='log2',\n",
       "                      n_estimators=320, n_jobs=-1)"
      ]
     },
     "execution_count": 332,
     "metadata": {},
     "output_type": "execute_result"
    }
   ],
   "source": [
    "# RF-time fit best RF and get most significant features\n",
    "rf_time = RandomForestRegressor(n_estimators=320, \n",
    "                                  max_features='log2', \n",
    "                                  max_depth=20, \n",
    "                                  criterion='poisson',n_jobs = -1)\n",
    "rf_time.fit(train_data_radi, RF_y_train_time)"
   ]
  },
  {
   "cell_type": "code",
   "execution_count": 336,
   "id": "c7f00f79",
   "metadata": {},
   "outputs": [
    {
     "name": "stdout",
     "output_type": "stream",
     "text": [
      "376.22421026941623\n"
     ]
    }
   ],
   "source": [
    "# Eval  \n",
    "rf_time_pred = rf_time.predict(test_data_radi)\n",
    "mse = mean_squared_error(RF_y_test_time, rf_time_pred)\n",
    "rmse = math.sqrt(mse)\n",
    "print(rmse) "
   ]
  },
  {
   "cell_type": "code",
   "execution_count": 348,
   "id": "99c0a1a7",
   "metadata": {},
   "outputs": [
    {
     "data": {
      "text/html": [
       "<div>\n",
       "<style scoped>\n",
       "    .dataframe tbody tr th:only-of-type {\n",
       "        vertical-align: middle;\n",
       "    }\n",
       "\n",
       "    .dataframe tbody tr th {\n",
       "        vertical-align: top;\n",
       "    }\n",
       "\n",
       "    .dataframe thead th {\n",
       "        text-align: right;\n",
       "    }\n",
       "</style>\n",
       "<table border=\"1\" class=\"dataframe\">\n",
       "  <thead>\n",
       "    <tr style=\"text-align: right;\">\n",
       "      <th></th>\n",
       "      <th>Gini-importance</th>\n",
       "    </tr>\n",
       "  </thead>\n",
       "  <tbody>\n",
       "    <tr>\n",
       "      <th>ClusterShade.wavelet.HLH</th>\n",
       "      <td>0.007769</td>\n",
       "    </tr>\n",
       "    <tr>\n",
       "      <th>Mean.wavelet.LLH</th>\n",
       "      <td>0.006955</td>\n",
       "    </tr>\n",
       "    <tr>\n",
       "      <th>ZoneEntropy.wavelet.LLL</th>\n",
       "      <td>0.006370</td>\n",
       "    </tr>\n",
       "    <tr>\n",
       "      <th>Sphericity.original</th>\n",
       "      <td>0.006133</td>\n",
       "    </tr>\n",
       "    <tr>\n",
       "      <th>ClusterShade.wavelet.HHL</th>\n",
       "      <td>0.005936</td>\n",
       "    </tr>\n",
       "    <tr>\n",
       "      <th>DependenceEntropy.wavelet.LLL</th>\n",
       "      <td>0.005705</td>\n",
       "    </tr>\n",
       "    <tr>\n",
       "      <th>ZoneEntropy.wavelet.LHL</th>\n",
       "      <td>0.005449</td>\n",
       "    </tr>\n",
       "    <tr>\n",
       "      <th>DependenceNonUniformityNormalized.wavelet.HHH</th>\n",
       "      <td>0.005315</td>\n",
       "    </tr>\n",
       "    <tr>\n",
       "      <th>Skewness.wavelet.HHL</th>\n",
       "      <td>0.005187</td>\n",
       "    </tr>\n",
       "    <tr>\n",
       "      <th>JointEnergy.wavelet.LLH</th>\n",
       "      <td>0.004861</td>\n",
       "    </tr>\n",
       "    <tr>\n",
       "      <th>Flatness.original</th>\n",
       "      <td>0.004810</td>\n",
       "    </tr>\n",
       "    <tr>\n",
       "      <th>Mean.wavelet.HHL</th>\n",
       "      <td>0.004658</td>\n",
       "    </tr>\n",
       "    <tr>\n",
       "      <th>ClusterShade.wavelet.HHH</th>\n",
       "      <td>0.004649</td>\n",
       "    </tr>\n",
       "    <tr>\n",
       "      <th>JointEntropy.wavelet.LLH</th>\n",
       "      <td>0.004440</td>\n",
       "    </tr>\n",
       "    <tr>\n",
       "      <th>Maximum3DDiameter.original</th>\n",
       "      <td>0.004375</td>\n",
       "    </tr>\n",
       "    <tr>\n",
       "      <th>DependenceVariance.wavelet.HHH</th>\n",
       "      <td>0.004331</td>\n",
       "    </tr>\n",
       "    <tr>\n",
       "      <th>ZoneEntropy.original</th>\n",
       "      <td>0.004291</td>\n",
       "    </tr>\n",
       "    <tr>\n",
       "      <th>DependenceNonUniformityNormalized.wavelet.LLH</th>\n",
       "      <td>0.004291</td>\n",
       "    </tr>\n",
       "    <tr>\n",
       "      <th>GrayLevelNonUniformityNormalized.wavelet.LLL</th>\n",
       "      <td>0.004246</td>\n",
       "    </tr>\n",
       "    <tr>\n",
       "      <th>Elongation.original</th>\n",
       "      <td>0.004120</td>\n",
       "    </tr>\n",
       "  </tbody>\n",
       "</table>\n",
       "</div>"
      ],
      "text/plain": [
       "                                               Gini-importance\n",
       "ClusterShade.wavelet.HLH                              0.007769\n",
       "Mean.wavelet.LLH                                      0.006955\n",
       "ZoneEntropy.wavelet.LLL                               0.006370\n",
       "Sphericity.original                                   0.006133\n",
       "ClusterShade.wavelet.HHL                              0.005936\n",
       "DependenceEntropy.wavelet.LLL                         0.005705\n",
       "ZoneEntropy.wavelet.LHL                               0.005449\n",
       "DependenceNonUniformityNormalized.wavelet.HHH         0.005315\n",
       "Skewness.wavelet.HHL                                  0.005187\n",
       "JointEnergy.wavelet.LLH                               0.004861\n",
       "Flatness.original                                     0.004810\n",
       "Mean.wavelet.HHL                                      0.004658\n",
       "ClusterShade.wavelet.HHH                              0.004649\n",
       "JointEntropy.wavelet.LLH                              0.004440\n",
       "Maximum3DDiameter.original                            0.004375\n",
       "DependenceVariance.wavelet.HHH                        0.004331\n",
       "ZoneEntropy.original                                  0.004291\n",
       "DependenceNonUniformityNormalized.wavelet.LLH         0.004291\n",
       "GrayLevelNonUniformityNormalized.wavelet.LLL          0.004246\n",
       "Elongation.original                                   0.004120"
      ]
     },
     "execution_count": 348,
     "metadata": {},
     "output_type": "execute_result"
    }
   ],
   "source": [
    "feats = {} # a dict to hold feature_name: feature_importance\n",
    "for feature, importance in zip(train_data_radi.columns, rf_time.feature_importances_):\n",
    "    feats[feature] = importance #add the name/value pair \n",
    "\n",
    "importances_time = pd.DataFrame.from_dict(feats, orient='index').rename(columns={0: 'Gini-importance'})\n",
    "# importances.sort_values(by='Gini-importance', ascending=False).plot(kind='bar', rot=45)\n",
    "\n",
    "importances_time.sort_values(by='Gini-importance', ascending=False, inplace=True)\n",
    "importances_time.head(20)\n",
    "time_impt_list = importances_time.head(20).index.tolist()"
   ]
  },
  {
   "cell_type": "code",
   "execution_count": 456,
   "id": "cd32bb92",
   "metadata": {
    "scrolled": true
   },
   "outputs": [
    {
     "data": {
      "text/plain": [
       "<Figure size 792x360 with 0 Axes>"
      ]
     },
     "execution_count": 456,
     "metadata": {},
     "output_type": "execute_result"
    },
    {
     "data": {
      "text/plain": [
       "<AxesSubplot:>"
      ]
     },
     "execution_count": 456,
     "metadata": {},
     "output_type": "execute_result"
    },
    {
     "data": {
      "image/png": "[encoded data removed]",
      "text/plain": [
       "<Figure size 792x360 with 2 Axes>"
      ]
     },
     "metadata": {},
     "output_type": "display_data"
    }
   ],
   "source": [
    "# plot corr \n",
    "plt.figure(figsize=(11,5))\n",
    "corr_check = data_radi[time_impt_list].corr()\n",
    "sns.heatmap(corr_check, cmap=\"coolwarm\",annot=False)\n",
    "corr_check.to_excel('corr_check_time.xlsx')"
   ]
  },
  {
   "cell_type": "code",
   "execution_count": 458,
   "id": "323dd950",
   "metadata": {},
   "outputs": [
    {
     "name": "stdout",
     "output_type": "stream",
     "text": [
      "Fitting 3 folds for each of 50 candidates, totalling 150 fits\n"
     ]
    },
    {
     "data": {
      "text/plain": [
       "RandomizedSearchCV(cv=3, estimator=RandomForestRegressor(), n_iter=50,\n",
       "                   n_jobs=-1,\n",
       "                   param_distributions={'criterion': ['poisson'],\n",
       "                                        'max_depth': [20, 28, 36, 44, 52, 60,\n",
       "                                                      68, 76, 84, 92, 100],\n",
       "                                        'max_features': [9],\n",
       "                                        'n_estimators': [200, 230, 260, 290,\n",
       "                                                         320, 350, 380, 410,\n",
       "                                                         440, 470, 500]},\n",
       "                   random_state=101, verbose=2)"
      ]
     },
     "execution_count": 458,
     "metadata": {},
     "output_type": "execute_result"
    },
    {
     "data": {
      "text/plain": [
       "{'n_estimators': 230,\n",
       " 'max_features': 9,\n",
       " 'max_depth': 20,\n",
       " 'criterion': 'poisson'}"
      ]
     },
     "execution_count": 458,
     "metadata": {},
     "output_type": "execute_result"
    }
   ],
   "source": [
    "# Remove high correlated columns and refit\n",
    "time_impt_list_refine = ['ClusterShade.wavelet.HLH', 'Mean.wavelet.LLH','ZoneEntropy.wavelet.LLL','Sphericity.original',\n",
    "'ClusterShade.wavelet.HHL','DependenceEntropy.wavelet.LLL','DependenceNonUniformityNormalized.wavelet.HHH',\n",
    "'JointEnergy.wavelet.LLH','Flatness.original']\n",
    "x = train_data_radi[time_impt_list_refine]\n",
    "n_estimators = [int(x) for x in np.linspace(200, 500, 11)]\n",
    "criterion = ['poisson']\n",
    "max_features = [9]\n",
    "max_depths = [int(x) for x in np.linspace(20, 100, 11)]\n",
    "\n",
    "random_grid = {'n_estimators': n_estimators,\n",
    "               'criterion': criterion,\n",
    "               'max_features': max_features,\n",
    "               'max_depth': max_depths}\n",
    "\n",
    "rf_time = RandomForestRegressor()\n",
    "rf_time_search = RandomizedSearchCV(estimator = rf_time, \n",
    "                               param_distributions = random_grid, \n",
    "                               n_iter = 50, cv = 3, \n",
    "                               verbose=2, \n",
    "                               random_state=101, \n",
    "                               n_jobs = -1)\n",
    "rf_time_search.fit(x, RF_y_train_time)\n",
    "rf_time_search.best_params_"
   ]
  },
  {
   "cell_type": "code",
   "execution_count": 460,
   "id": "dc145be2",
   "metadata": {},
   "outputs": [
    {
     "data": {
      "text/plain": [
       "RandomForestRegressor(criterion='poisson', max_depth=20, max_features=9,\n",
       "                      n_estimators=230, n_jobs=-1)"
      ]
     },
     "execution_count": 460,
     "metadata": {},
     "output_type": "execute_result"
    },
    {
     "name": "stdout",
     "output_type": "stream",
     "text": [
      "377.68543562811055\n"
     ]
    }
   ],
   "source": [
    "# RF-time fit with refined columns\n",
    "x = train_data_radi[time_impt_list_refine]\n",
    "rf_time = RandomForestRegressor(n_estimators=230, \n",
    "                                  max_features=9, \n",
    "                                  max_depth=20, \n",
    "                                  criterion='poisson',n_jobs = -1)\n",
    "rf_time.fit(train_data_radi, RF_y_train_time)\n",
    "# Eval  \n",
    "x = test_data_radi[time_impt_list_refine]\n",
    "rf_time_pred = rf_time.predict(test_data_radi)\n",
    "mse = mean_squared_error(RF_y_test_time, rf_time_pred)\n",
    "rmse = math.sqrt(mse)\n",
    "print(rmse) "
   ]
  },
  {
   "cell_type": "code",
   "execution_count": 469,
   "id": "c34fbb48",
   "metadata": {
    "collapsed": true
   },
   "outputs": [
    {
     "data": {
      "text/plain": [
       "<Figure size 792x360 with 0 Axes>"
      ]
     },
     "execution_count": 469,
     "metadata": {},
     "output_type": "execute_result"
    },
    {
     "data": {
      "text/plain": [
       "<AxesSubplot:>"
      ]
     },
     "execution_count": 469,
     "metadata": {},
     "output_type": "execute_result"
    },
    {
     "data": {
      "image/png": "[encoded data removed]",
      "text/plain": [
       "<Figure size 792x360 with 2 Axes>"
      ]
     },
     "metadata": {},
     "output_type": "display_data"
    }
   ],
   "source": [
    "# correlation quick check\n",
    "radi_impt_list = np.union1d(event_impt_list_refine, time_impt_list_refine).tolist()\n",
    "plt.figure(figsize=(11,5))\n",
    "sns.heatmap(data_radi[radi_impt_list].corr(), cmap=\"coolwarm\",annot=False)"
   ]
  },
  {
   "cell_type": "markdown",
   "id": "9e4bdc5e",
   "metadata": {},
   "source": [
    "#### Hybrid NN model with CT_img and important radi features"
   ]
  },
  {
   "cell_type": "code",
   "execution_count": 472,
   "id": "3301bb6d",
   "metadata": {},
   "outputs": [],
   "source": [
    "# combine important columns\n",
    "radi_impt_list = np.union1d(event_impt_list_refine, time_impt_list_refine).tolist()"
   ]
  },
  {
   "cell_type": "code",
   "execution_count": 520,
   "id": "1c5501ee",
   "metadata": {},
   "outputs": [],
   "source": [
    "# normalize important radi features\n",
    "scaler = MinMaxScaler()\n",
    "radi_train_normlize = torch.from_numpy(scaler.fit_transform(train_data_radi[radi_impt_list]).astype(np.float32))\n",
    "radi_test_normlize = torch.from_numpy(scaler.transform(test_data_radi[radi_impt_list]).astype(np.float32))"
   ]
  },
  {
   "cell_type": "code",
   "execution_count": 517,
   "id": "03d7c9e0",
   "metadata": {},
   "outputs": [
    {
     "data": {
      "text/plain": [
       "torch.Size([292, 1, 20, 50, 50])"
      ]
     },
     "execution_count": 517,
     "metadata": {},
     "output_type": "execute_result"
    }
   ],
   "source": [
    "# get X from ct_img data\n",
    "train_ct_data_x = [item[0] for item in train_ct_data]\n",
    "train_ct_data_x = torch.stack(train_ct_data_x, dim=0)\n",
    "train_ct_data_x.shape\n",
    "\n",
    "test_ct_data_x = [item[0] for item in test_ct_data]\n",
    "test_ct_data_x = torch.stack(test_ct_data_x, dim=0)\n",
    "test_ct_data_x.shape"
   ]
  },
  {
   "cell_type": "code",
   "execution_count": 634,
   "id": "06b0c495",
   "metadata": {},
   "outputs": [],
   "source": [
    "# Train / Test data for hybrid net\n",
    "train_all_x = []\n",
    "for i in range(len(train_ct_data_x)):\n",
    "    item1 = train_ct_data_x[i]\n",
    "    item2 = radi_train_normlize[i]\n",
    "    item3 = train_ct_data[i][1]\n",
    "    \n",
    "    train_all_x.append(((item1, item2), item3))\n",
    "    \n",
    "train_all_x = DataLoader(train_all_x, batch_size, shuffle=True, collate_fn=collate_fn)"
   ]
  },
  {
   "cell_type": "code",
   "execution_count": 665,
   "id": "6cbc6613",
   "metadata": {},
   "outputs": [],
   "source": [
    "test_all_x = []\n",
    "for i in range(len(test_ct_data_x)):\n",
    "    item1 = test_ct_data_x[i]\n",
    "    item2 = radi_test_normlize[i]\n",
    "    item3 = test_ct_data[i][1]\n",
    "    \n",
    "    test_all_x.append(((item1, item2), item3))\n",
    "    \n",
    "test_all_x = DataLoader(test_all_x, batch_size, shuffle=False, collate_fn=collate_fn)"
   ]
  },
  {
   "cell_type": "code",
   "execution_count": 637,
   "id": "03907e97",
   "metadata": {},
   "outputs": [
    {
     "data": {
      "text/plain": [
       "((torch.Size([50, 1, 20, 50, 50]), torch.Size([50, 24])),\n",
       " (torch.Size([50]), torch.Size([50])))"
      ]
     },
     "execution_count": 637,
     "metadata": {},
     "output_type": "execute_result"
    },
    {
     "data": {
      "text/plain": [
       "((torch.float32, torch.float32), (torch.int64, torch.float32))"
      ]
     },
     "execution_count": 637,
     "metadata": {},
     "output_type": "execute_result"
    }
   ],
   "source": [
    "# quick check\n",
    "batch_x = next(iter(train_all_x))\n",
    "batch_x.shapes()\n",
    "batch_x.dtypes()"
   ]
  },
  {
   "cell_type": "code",
   "execution_count": 642,
   "id": "e3d2866c",
   "metadata": {},
   "outputs": [],
   "source": [
    "# Net - img\n",
    "class MyNet_img(nn.Module):\n",
    "    def __init__(self):\n",
    "        super(MyNet_img, self).__init__()\n",
    "        self.conv1 = nn.Conv3d(1, 32, 3, 1)\n",
    "        self.max_pool = nn.MaxPool3d(2)\n",
    "        self.conv2 = nn.Conv3d(32, 64, 5, 1)\n",
    "        self.glob_avg_pool = nn.AdaptiveAvgPool3d((1, 1, 1))\n",
    "        self.fc1 = nn.Linear(64, 32)\n",
    "\n",
    "    def forward(self, x):\n",
    "        x = F.relu(self.conv1(x))\n",
    "        x = self.max_pool(x)\n",
    "        x = F.relu(self.conv2(x))\n",
    "        x = self.glob_avg_pool(x)\n",
    "        x = torch.flatten(x, 1)\n",
    "        x = self.fc1(x)\n",
    "        return x\n",
    "\n",
    "# Net - radi\n",
    "class MyNet_radi(nn.Module):\n",
    "    def __init__(self):\n",
    "        super(MyNet_radi, self).__init__()\n",
    "        self.fc1 = nn.Linear(24, 32)\n",
    "        self.fc2 = nn.Linear(32, 64)\n",
    "        self.fc3 = nn.Linear(64, 32)\n",
    "\n",
    "    def forward(self, x):\n",
    "        x = F.relu(self.fc1(x))\n",
    "        x = F.relu(self.fc2(x))\n",
    "        x = self.fc3(x)\n",
    "        return x\n",
    "    \n",
    "# Net - ensemble\n",
    "class MyEnsemble(nn.Module):\n",
    "    def __init__(self, Net_img, Net_radi, out_features):\n",
    "        super(MyEnsemble, self).__init__()\n",
    "        self.Net_img = Net_img\n",
    "        self.Net_radi = Net_radi\n",
    "        self.fc1 = nn.Linear(64, 32)\n",
    "        self.fc2 = nn.Linear(32, out_features)\n",
    "        \n",
    "    def forward(self, x1, x2):\n",
    "        x1 = self.Net_img(x1)\n",
    "        x2 = self.Net_radi(x2)\n",
    "        x = torch.cat((x1, x2), dim=1)\n",
    "        x = F.relu(self.fc1(x))\n",
    "        x = self.fc2(x)\n",
    "        return x"
   ]
  },
  {
   "cell_type": "code",
   "execution_count": 643,
   "id": "edbfdb40",
   "metadata": {},
   "outputs": [
    {
     "data": {
      "text/plain": [
       "MyEnsemble(\n",
       "  (Net_img): MyNet_img(\n",
       "    (conv1): Conv3d(1, 32, kernel_size=(3, 3, 3), stride=(1, 1, 1))\n",
       "    (max_pool): MaxPool3d(kernel_size=2, stride=2, padding=0, dilation=1, ceil_mode=False)\n",
       "    (conv2): Conv3d(32, 64, kernel_size=(5, 5, 5), stride=(1, 1, 1))\n",
       "    (glob_avg_pool): AdaptiveAvgPool3d(output_size=(1, 1, 1))\n",
       "    (fc1): Linear(in_features=64, out_features=32, bias=True)\n",
       "  )\n",
       "  (Net_radi): MyNet_radi(\n",
       "    (fc1): Linear(in_features=24, out_features=32, bias=True)\n",
       "    (fc2): Linear(in_features=32, out_features=64, bias=True)\n",
       "    (fc3): Linear(in_features=64, out_features=32, bias=True)\n",
       "  )\n",
       "  (fc1): Linear(in_features=64, out_features=32, bias=True)\n",
       "  (fc2): Linear(in_features=32, out_features=20, bias=True)\n",
       ")"
      ]
     },
     "execution_count": 643,
     "metadata": {},
     "output_type": "execute_result"
    }
   ],
   "source": [
    "# Ensemble\n",
    "Net_img = MyNet_img()\n",
    "Net_radi = MyNet_radi()\n",
    "model_all = MyEnsemble(Net_img, Net_radi, labtrans.out_features)\n",
    "\n",
    "model_all"
   ]
  },
  {
   "cell_type": "code",
   "execution_count": 652,
   "id": "59aaad50",
   "metadata": {},
   "outputs": [
    {
     "name": "stdout",
     "output_type": "stream",
     "text": [
      "0:\t[49s / 49s],\t\ttrain_loss: 980.6741,\tval_loss: 138.9058\n",
      "1:\t[50s / 1m:39s],\t\ttrain_loss: 93.0914,\tval_loss: 47.2410\n",
      "2:\t[49s / 2m:29s],\t\ttrain_loss: 31.0079,\tval_loss: 13.8010\n",
      "3:\t[48s / 3m:17s],\t\ttrain_loss: 8.3057,\tval_loss: 4.2198\n",
      "4:\t[48s / 4m:6s],\t\ttrain_loss: 3.5096,\tval_loss: 5.0585\n",
      "5:\t[48s / 4m:55s],\t\ttrain_loss: 4.3974,\tval_loss: 4.5660\n",
      "6:\t[49s / 5m:45s],\t\ttrain_loss: 3.7238,\tval_loss: 4.4612\n",
      "7:\t[53s / 6m:39s],\t\ttrain_loss: 3.6246,\tval_loss: 4.3292\n",
      "8:\t[49s / 7m:28s],\t\ttrain_loss: 3.5082,\tval_loss: 4.1922\n",
      "9:\t[48s / 8m:17s],\t\ttrain_loss: 3.3987,\tval_loss: 4.0580\n",
      "10:\t[49s / 9m:7s],\t\ttrain_loss: 3.3014,\tval_loss: 3.9296\n",
      "11:\t[51s / 9m:58s],\t\ttrain_loss: 3.1851,\tval_loss: 3.8052\n",
      "12:\t[48s / 10m:47s],\t\ttrain_loss: 3.0946,\tval_loss: 3.6899\n",
      "13:\t[49s / 11m:36s],\t\ttrain_loss: 3.0043,\tval_loss: 3.5843\n",
      "14:\t[48s / 12m:25s],\t\ttrain_loss: 2.9276,\tval_loss: 3.4849\n",
      "15:\t[49s / 13m:15s],\t\ttrain_loss: 2.8552,\tval_loss: 3.3922\n",
      "16:\t[49s / 14m:4s],\t\ttrain_loss: 2.7793,\tval_loss: 3.3056\n",
      "17:\t[48s / 14m:53s],\t\ttrain_loss: 2.7225,\tval_loss: 3.2241\n",
      "18:\t[48s / 15m:41s],\t\ttrain_loss: 2.6589,\tval_loss: 3.1487\n",
      "19:\t[48s / 16m:29s],\t\ttrain_loss: 2.6066,\tval_loss: 3.0787\n",
      "20:\t[50s / 17m:20s],\t\ttrain_loss: 2.5475,\tval_loss: 3.0120\n",
      "21:\t[48s / 18m:8s],\t\ttrain_loss: 2.5053,\tval_loss: 2.9508\n",
      "22:\t[49s / 18m:58s],\t\ttrain_loss: 2.4490,\tval_loss: 2.8915\n",
      "23:\t[51s / 19m:50s],\t\ttrain_loss: 2.4037,\tval_loss: 2.8379\n",
      "24:\t[48s / 20m:38s],\t\ttrain_loss: 2.3638,\tval_loss: 2.7872\n",
      "25:\t[48s / 21m:27s],\t\ttrain_loss: 2.3352,\tval_loss: 2.7394\n",
      "26:\t[48s / 22m:15s],\t\ttrain_loss: 2.3057,\tval_loss: 2.6952\n",
      "27:\t[48s / 23m:4s],\t\ttrain_loss: 2.2737,\tval_loss: 2.6539\n",
      "28:\t[48s / 23m:52s],\t\ttrain_loss: 2.2292,\tval_loss: 2.6144\n",
      "29:\t[48s / 24m:41s],\t\ttrain_loss: 2.2091,\tval_loss: 2.5780\n",
      "30:\t[48s / 25m:29s],\t\ttrain_loss: 2.1802,\tval_loss: 2.5434\n",
      "31:\t[48s / 26m:17s],\t\ttrain_loss: 2.1559,\tval_loss: 2.5109\n",
      "32:\t[48s / 27m:6s],\t\ttrain_loss: 2.1320,\tval_loss: 2.4799\n",
      "33:\t[48s / 27m:54s],\t\ttrain_loss: 2.1186,\tval_loss: 2.4518\n",
      "34:\t[48s / 28m:43s],\t\ttrain_loss: 2.0892,\tval_loss: 2.4247\n",
      "35:\t[50s / 29m:34s],\t\ttrain_loss: 2.0733,\tval_loss: 2.3992\n",
      "36:\t[48s / 30m:22s],\t\ttrain_loss: 2.0563,\tval_loss: 2.3753\n",
      "37:\t[48s / 31m:11s],\t\ttrain_loss: 2.0342,\tval_loss: 2.3529\n",
      "38:\t[48s / 31m:59s],\t\ttrain_loss: 2.0227,\tval_loss: 2.3308\n",
      "39:\t[48s / 32m:47s],\t\ttrain_loss: 2.0067,\tval_loss: 2.3105\n",
      "40:\t[48s / 33m:36s],\t\ttrain_loss: 1.9880,\tval_loss: 2.2920\n",
      "41:\t[48s / 34m:25s],\t\ttrain_loss: 1.9738,\tval_loss: 2.2740\n",
      "42:\t[48s / 35m:14s],\t\ttrain_loss: 1.9658,\tval_loss: 2.2577\n",
      "43:\t[48s / 36m:2s],\t\ttrain_loss: 1.9570,\tval_loss: 2.2419\n",
      "44:\t[48s / 36m:51s],\t\ttrain_loss: 1.9440,\tval_loss: 2.2272\n",
      "45:\t[48s / 37m:39s],\t\ttrain_loss: 1.9319,\tval_loss: 2.2125\n",
      "46:\t[48s / 38m:28s],\t\ttrain_loss: 1.9284,\tval_loss: 2.1995\n",
      "47:\t[48s / 39m:16s],\t\ttrain_loss: 1.9156,\tval_loss: 2.1868\n",
      "48:\t[48s / 40m:5s],\t\ttrain_loss: 1.9018,\tval_loss: 2.1750\n",
      "49:\t[48s / 40m:53s],\t\ttrain_loss: 1.9007,\tval_loss: 2.1637\n"
     ]
    }
   ],
   "source": [
    "# Logistic-Hazard Model\n",
    "model_hybrid = LogisticHazard(model_all, tt.optim.Adam(0.01), duration_index=labtrans.cuts)\n",
    "\n",
    "# Training\n",
    "callbacks = [tt.cb.EarlyStopping(patience=5)]\n",
    "epochs = 50\n",
    "verbose = True\n",
    "log_hybrid = model_hybrid.fit_dataloader(train_all_x, epochs, callbacks, verbose, val_dataloader=test_all_x)\n",
    "\n",
    "# Save the whole network\n",
    "model_hybrid.save_net('Q2_hybrid_net.pt')"
   ]
  },
  {
   "cell_type": "code",
   "execution_count": 654,
   "id": "84a6156d",
   "metadata": {},
   "outputs": [
    {
     "data": {
      "image/png": "[encoded data removed]",
      "text/plain": [
       "<Figure size 432x288 with 1 Axes>"
      ]
     },
     "metadata": {},
     "output_type": "display_data"
    }
   ],
   "source": [
    "_ = log.plot()"
   ]
  },
  {
   "cell_type": "markdown",
   "id": "cc80b113",
   "metadata": {},
   "source": [
    "#### Prediction"
   ]
  },
  {
   "cell_type": "code",
   "execution_count": 658,
   "id": "c5da9400",
   "metadata": {},
   "outputs": [],
   "source": [
    "# get X from test data\n",
    "test_all_onlyx = []\n",
    "for i in range(len(test_ct_data_x)):\n",
    "    item1 = test_ct_data_x[i]\n",
    "    item2 = radi_test_normlize[i]\n",
    "\n",
    "    test_all_onlyx.append((item1, item2))\n",
    "    \n",
    "test_all_onlyx = DataLoader(test_all_onlyx, batch_size, shuffle=False, collate_fn=collate_fn)"
   ]
  },
  {
   "cell_type": "code",
   "execution_count": 668,
   "id": "17dbbd08",
   "metadata": {},
   "outputs": [
    {
     "name": "stderr",
     "output_type": "stream",
     "text": [
      "/Users/peAce/opt/anaconda3/lib/python3.8/site-packages/torchtuples/base.py:482: UserWarning: The input from the dataloader is different from\n",
      "                        the 'input' during trainig. The shapes are different.\n",
      "  warnings.warn(\n"
     ]
    }
   ],
   "source": [
    "# get prediction\n",
    "surv_hybrid = model_hybrid.predict_surv_df(test_all_onlyx)"
   ]
  },
  {
   "cell_type": "code",
   "execution_count": 669,
   "id": "df2cbb5d",
   "metadata": {},
   "outputs": [
    {
     "data": {
      "text/plain": [
       "(0.500924784217016, 0.500924784217016)"
      ]
     },
     "execution_count": 669,
     "metadata": {},
     "output_type": "execute_result"
    }
   ],
   "source": [
    "# Evaluation\n",
    "surv_cdi = model_hybrid.interpolate(10).predict_surv_df(test_all_onlyx)\n",
    "surv_chi = model_hybrid.interpolate(10, 'const_hazard').predict_surv_df(test_all_onlyx)\n",
    "ev_cdi = EvalSurv(surv_cdi, durations_test, events_test, censor_surv='km')\n",
    "ev_chi = EvalSurv(surv_chi, durations_test, events_test, censor_surv='km')\n",
    "ev_cdi.concordance_td(), ev_chi.concordance_td()"
   ]
  },
  {
   "cell_type": "code",
   "execution_count": 670,
   "id": "d056686f",
   "metadata": {},
   "outputs": [
    {
     "data": {
      "text/plain": [
       "(0.24194443913153832, 0.24244595693937246)"
      ]
     },
     "execution_count": 670,
     "metadata": {},
     "output_type": "execute_result"
    },
    {
     "data": {
      "text/plain": [
       "<AxesSubplot:>"
      ]
     },
     "execution_count": 670,
     "metadata": {},
     "output_type": "execute_result"
    },
    {
     "data": {
      "text/plain": [
       "<AxesSubplot:>"
      ]
     },
     "execution_count": 670,
     "metadata": {},
     "output_type": "execute_result"
    },
    {
     "data": {
      "text/plain": [
       "<matplotlib.legend.Legend at 0x7feb76f24ac0>"
      ]
     },
     "execution_count": 670,
     "metadata": {},
     "output_type": "execute_result"
    },
    {
     "data": {
      "text/plain": [
       "Text(0, 0.5, 'Brier score')"
      ]
     },
     "execution_count": 670,
     "metadata": {},
     "output_type": "execute_result"
    },
    {
     "data": {
      "image/png": "[encoded data removed]",
      "text/plain": [
       "<Figure size 432x288 with 1 Axes>"
      ]
     },
     "metadata": {},
     "output_type": "display_data"
    }
   ],
   "source": [
    "time_grid = np.linspace(durations_test.min(), durations_test.max(), 10)\n",
    "ev_cdi.integrated_brier_score(time_grid), ev_chi.integrated_brier_score(time_grid)\n",
    "\n",
    "ev_cdi.brier_score(time_grid).rename('CDI').plot()\n",
    "ev_chi.brier_score(time_grid).rename('CHI').plot()\n",
    "plt.legend()\n",
    "plt.ylabel('Brier score')\n",
    "_ = plt.xlabel('Time')\n",
    "plt.show()"
   ]
  },
  {
   "cell_type": "code",
   "execution_count": null,
   "id": "97ac9bd3",
   "metadata": {},
   "outputs": [],
   "source": []
  },
  {
   "cell_type": "markdown",
   "id": "e94b2c8e",
   "metadata": {},
   "source": [
    "#### Archive"
   ]
  },
  {
   "cell_type": "code",
   "execution_count": null,
   "id": "80695afb",
   "metadata": {},
   "outputs": [],
   "source": [
    "# Get columns\n",
    "col_name = data_radi.columns.tolist()\n",
    "end_list =['original', 'HHH', 'HHL', 'HLH', 'HLL', 'LHH', 'LHL', 'LLH', 'LLL']\n",
    "col_list = pd.DataFrame()\n",
    "for item in end_list:\n",
    "    temp_list = pd.DataFrame({item: sorted([name for name in col_name if item in name])})\n",
    "    col_list = pd.concat([col_list,temp_list], axis=1, ignore_index = True)\n",
    "\n",
    "col_list.columns = end_list"
   ]
  },
  {
   "cell_type": "code",
   "execution_count": 430,
   "id": "7e9b0981",
   "metadata": {},
   "outputs": [
    {
     "data": {
      "text/plain": [
       "RandomForestClassifier(max_depth=44, max_features=50, n_estimators=410,\n",
       "                       n_jobs=-1)"
      ]
     },
     "execution_count": 430,
     "metadata": {},
     "output_type": "execute_result"
    },
    {
     "data": {
      "text/html": [
       "<div>\n",
       "<style scoped>\n",
       "    .dataframe tbody tr th:only-of-type {\n",
       "        vertical-align: middle;\n",
       "    }\n",
       "\n",
       "    .dataframe tbody tr th {\n",
       "        vertical-align: top;\n",
       "    }\n",
       "\n",
       "    .dataframe thead th {\n",
       "        text-align: right;\n",
       "    }\n",
       "</style>\n",
       "<table border=\"1\" class=\"dataframe\">\n",
       "  <thead>\n",
       "    <tr style=\"text-align: right;\">\n",
       "      <th></th>\n",
       "      <th>Gini-importance</th>\n",
       "    </tr>\n",
       "  </thead>\n",
       "  <tbody>\n",
       "    <tr>\n",
       "      <th>90Percentile.original</th>\n",
       "      <td>0.037312</td>\n",
       "    </tr>\n",
       "    <tr>\n",
       "      <th>Energy.original</th>\n",
       "      <td>0.031206</td>\n",
       "    </tr>\n",
       "    <tr>\n",
       "      <th>Median.original</th>\n",
       "      <td>0.029354</td>\n",
       "    </tr>\n",
       "    <tr>\n",
       "      <th>DifferenceVariance.original</th>\n",
       "      <td>0.028094</td>\n",
       "    </tr>\n",
       "    <tr>\n",
       "      <th>TotalEnergy.original</th>\n",
       "      <td>0.026438</td>\n",
       "    </tr>\n",
       "    <tr>\n",
       "      <th>Flatness.original</th>\n",
       "      <td>0.025316</td>\n",
       "    </tr>\n",
       "    <tr>\n",
       "      <th>Sphericity.original</th>\n",
       "      <td>0.021514</td>\n",
       "    </tr>\n",
       "    <tr>\n",
       "      <th>LowGrayLevelZoneEmphasis.original</th>\n",
       "      <td>0.019867</td>\n",
       "    </tr>\n",
       "    <tr>\n",
       "      <th>LargeDependenceLowGrayLevelEmphasis.original</th>\n",
       "      <td>0.019120</td>\n",
       "    </tr>\n",
       "    <tr>\n",
       "      <th>Imc1.original</th>\n",
       "      <td>0.018540</td>\n",
       "    </tr>\n",
       "    <tr>\n",
       "      <th>MCC.original</th>\n",
       "      <td>0.018388</td>\n",
       "    </tr>\n",
       "    <tr>\n",
       "      <th>ZoneEntropy.original</th>\n",
       "      <td>0.016638</td>\n",
       "    </tr>\n",
       "    <tr>\n",
       "      <th>Maximum2DDiameterColumn.original</th>\n",
       "      <td>0.016325</td>\n",
       "    </tr>\n",
       "    <tr>\n",
       "      <th>SmallAreaLowGrayLevelEmphasis.original</th>\n",
       "      <td>0.015810</td>\n",
       "    </tr>\n",
       "    <tr>\n",
       "      <th>GrayLevelVariance.original</th>\n",
       "      <td>0.014954</td>\n",
       "    </tr>\n",
       "    <tr>\n",
       "      <th>SizeZoneNonUniformityNormalized.original</th>\n",
       "      <td>0.014839</td>\n",
       "    </tr>\n",
       "    <tr>\n",
       "      <th>Elongation.original</th>\n",
       "      <td>0.014706</td>\n",
       "    </tr>\n",
       "    <tr>\n",
       "      <th>Busyness.original</th>\n",
       "      <td>0.014507</td>\n",
       "    </tr>\n",
       "    <tr>\n",
       "      <th>LongRunLowGrayLevelEmphasis.original</th>\n",
       "      <td>0.014444</td>\n",
       "    </tr>\n",
       "    <tr>\n",
       "      <th>SmallAreaEmphasis.original</th>\n",
       "      <td>0.014305</td>\n",
       "    </tr>\n",
       "  </tbody>\n",
       "</table>\n",
       "</div>"
      ],
      "text/plain": [
       "                                              Gini-importance\n",
       "90Percentile.original                                0.037312\n",
       "Energy.original                                      0.031206\n",
       "Median.original                                      0.029354\n",
       "DifferenceVariance.original                          0.028094\n",
       "TotalEnergy.original                                 0.026438\n",
       "Flatness.original                                    0.025316\n",
       "Sphericity.original                                  0.021514\n",
       "LowGrayLevelZoneEmphasis.original                    0.019867\n",
       "LargeDependenceLowGrayLevelEmphasis.original         0.019120\n",
       "Imc1.original                                        0.018540\n",
       "MCC.original                                         0.018388\n",
       "ZoneEntropy.original                                 0.016638\n",
       "Maximum2DDiameterColumn.original                     0.016325\n",
       "SmallAreaLowGrayLevelEmphasis.original               0.015810\n",
       "GrayLevelVariance.original                           0.014954\n",
       "SizeZoneNonUniformityNormalized.original             0.014839\n",
       "Elongation.original                                  0.014706\n",
       "Busyness.original                                    0.014507\n",
       "LongRunLowGrayLevelEmphasis.original                 0.014444\n",
       "SmallAreaEmphasis.original                           0.014305"
      ]
     },
     "execution_count": 430,
     "metadata": {},
     "output_type": "execute_result"
    }
   ],
   "source": [
    "# Check importance among orignal measurement\n",
    "# RF-event, original\n",
    "x = train_data_radi[[name for name in col_name if 'original' in name]]\n",
    "rf_event = RandomForestClassifier(n_estimators=410, \n",
    "                                  max_features=50, \n",
    "                                  max_depth=44, n_jobs = -1)\n",
    "rf_event.fit(x, RF_y_train_event)\n",
    "\n",
    "feats = {} # a dict to hold feature_name: feature_importance\n",
    "for feature, importance in zip(x.columns, rf_event.feature_importances_):\n",
    "    feats[feature] = importance #add the name/value pair \n",
    "\n",
    "importances = pd.DataFrame.from_dict(feats, orient='index').rename(columns={0: 'Gini-importance'})\n",
    "importances.sort_values(by='Gini-importance', ascending=False, inplace=True)\n",
    "importances.head(20)\n"
   ]
  },
  {
   "cell_type": "code",
   "execution_count": 432,
   "id": "f54ab58f",
   "metadata": {},
   "outputs": [
    {
     "data": {
      "text/plain": [
       "RandomForestClassifier(max_depth=44, max_features=50, n_estimators=410,\n",
       "                       n_jobs=-1)"
      ]
     },
     "execution_count": 432,
     "metadata": {},
     "output_type": "execute_result"
    },
    {
     "data": {
      "text/html": [
       "<div>\n",
       "<style scoped>\n",
       "    .dataframe tbody tr th:only-of-type {\n",
       "        vertical-align: middle;\n",
       "    }\n",
       "\n",
       "    .dataframe tbody tr th {\n",
       "        vertical-align: top;\n",
       "    }\n",
       "\n",
       "    .dataframe thead th {\n",
       "        text-align: right;\n",
       "    }\n",
       "</style>\n",
       "<table border=\"1\" class=\"dataframe\">\n",
       "  <thead>\n",
       "    <tr style=\"text-align: right;\">\n",
       "      <th></th>\n",
       "      <th>Gini-importance</th>\n",
       "    </tr>\n",
       "  </thead>\n",
       "  <tbody>\n",
       "    <tr>\n",
       "      <th>Correlation.wavelet.HHH</th>\n",
       "      <td>0.010738</td>\n",
       "    </tr>\n",
       "    <tr>\n",
       "      <th>Correlation.wavelet.HHL</th>\n",
       "      <td>0.006985</td>\n",
       "    </tr>\n",
       "    <tr>\n",
       "      <th>90Percentile.wavelet.LLL</th>\n",
       "      <td>0.006857</td>\n",
       "    </tr>\n",
       "    <tr>\n",
       "      <th>ClusterShade.wavelet.HLL</th>\n",
       "      <td>0.005614</td>\n",
       "    </tr>\n",
       "    <tr>\n",
       "      <th>SizeZoneNonUniformityNormalized.wavelet.HLH</th>\n",
       "      <td>0.005475</td>\n",
       "    </tr>\n",
       "    <tr>\n",
       "      <th>TotalEnergy.wavelet.LLL</th>\n",
       "      <td>0.004758</td>\n",
       "    </tr>\n",
       "    <tr>\n",
       "      <th>Energy.wavelet.LLL</th>\n",
       "      <td>0.004576</td>\n",
       "    </tr>\n",
       "    <tr>\n",
       "      <th>GrayLevelVariance.wavelet.LLL</th>\n",
       "      <td>0.004366</td>\n",
       "    </tr>\n",
       "    <tr>\n",
       "      <th>LongRunHighGrayLevelEmphasis.wavelet.LHH</th>\n",
       "      <td>0.004302</td>\n",
       "    </tr>\n",
       "    <tr>\n",
       "      <th>ZoneEntropy.wavelet.LLH</th>\n",
       "      <td>0.004300</td>\n",
       "    </tr>\n",
       "    <tr>\n",
       "      <th>SmallAreaEmphasis.wavelet.HLH</th>\n",
       "      <td>0.004265</td>\n",
       "    </tr>\n",
       "    <tr>\n",
       "      <th>SmallAreaEmphasis.wavelet.HLL</th>\n",
       "      <td>0.004261</td>\n",
       "    </tr>\n",
       "    <tr>\n",
       "      <th>Mean.wavelet.LHH</th>\n",
       "      <td>0.004242</td>\n",
       "    </tr>\n",
       "    <tr>\n",
       "      <th>Median.wavelet.LLL</th>\n",
       "      <td>0.004154</td>\n",
       "    </tr>\n",
       "    <tr>\n",
       "      <th>Imc1.wavelet.HHL</th>\n",
       "      <td>0.004125</td>\n",
       "    </tr>\n",
       "    <tr>\n",
       "      <th>Imc1.wavelet.HHH</th>\n",
       "      <td>0.004110</td>\n",
       "    </tr>\n",
       "    <tr>\n",
       "      <th>Skewness.wavelet.LHH</th>\n",
       "      <td>0.004101</td>\n",
       "    </tr>\n",
       "    <tr>\n",
       "      <th>Imc2.wavelet.HHH</th>\n",
       "      <td>0.004062</td>\n",
       "    </tr>\n",
       "    <tr>\n",
       "      <th>Median.wavelet.HHL</th>\n",
       "      <td>0.004038</td>\n",
       "    </tr>\n",
       "    <tr>\n",
       "      <th>DifferenceVariance.wavelet.LLL</th>\n",
       "      <td>0.004031</td>\n",
       "    </tr>\n",
       "  </tbody>\n",
       "</table>\n",
       "</div>"
      ],
      "text/plain": [
       "                                             Gini-importance\n",
       "Correlation.wavelet.HHH                             0.010738\n",
       "Correlation.wavelet.HHL                             0.006985\n",
       "90Percentile.wavelet.LLL                            0.006857\n",
       "ClusterShade.wavelet.HLL                            0.005614\n",
       "SizeZoneNonUniformityNormalized.wavelet.HLH         0.005475\n",
       "TotalEnergy.wavelet.LLL                             0.004758\n",
       "Energy.wavelet.LLL                                  0.004576\n",
       "GrayLevelVariance.wavelet.LLL                       0.004366\n",
       "LongRunHighGrayLevelEmphasis.wavelet.LHH            0.004302\n",
       "ZoneEntropy.wavelet.LLH                             0.004300\n",
       "SmallAreaEmphasis.wavelet.HLH                       0.004265\n",
       "SmallAreaEmphasis.wavelet.HLL                       0.004261\n",
       "Mean.wavelet.LHH                                    0.004242\n",
       "Median.wavelet.LLL                                  0.004154\n",
       "Imc1.wavelet.HHL                                    0.004125\n",
       "Imc1.wavelet.HHH                                    0.004110\n",
       "Skewness.wavelet.LHH                                0.004101\n",
       "Imc2.wavelet.HHH                                    0.004062\n",
       "Median.wavelet.HHL                                  0.004038\n",
       "DifferenceVariance.wavelet.LLL                      0.004031"
      ]
     },
     "execution_count": 432,
     "metadata": {},
     "output_type": "execute_result"
    }
   ],
   "source": [
    "# RF-event, not original\n",
    "x = train_data_radi[[name for name in col_name if 'original' not in name]]\n",
    "rf_event = RandomForestClassifier(n_estimators=410, \n",
    "                                  max_features=50, \n",
    "                                  max_depth=44, n_jobs = -1)\n",
    "rf_event.fit(x, RF_y_train_event)\n",
    "\n",
    "feats = {} # a dict to hold feature_name: feature_importance\n",
    "for feature, importance in zip(x.columns, rf_event.feature_importances_):\n",
    "    feats[feature] = importance #add the name/value pair \n",
    "\n",
    "importances = pd.DataFrame.from_dict(feats, orient='index').rename(columns={0: 'Gini-importance'})\n",
    "importances.sort_values(by='Gini-importance', ascending=False, inplace=True)\n",
    "importances.head(20)"
   ]
  },
  {
   "cell_type": "code",
   "execution_count": null,
   "id": "74ee273f",
   "metadata": {},
   "outputs": [],
   "source": [
    "plt.figure(figsize=(11,5))\n",
    "x = train_data_radi[[name for name in col_name if '90Percentile.' in name]].corr()\n",
    "sns.heatmap(x, cmap=\"coolwarm\",annot=True)"
   ]
  },
  {
   "cell_type": "code",
   "execution_count": null,
   "id": "0d1cbc8b",
   "metadata": {},
   "outputs": [],
   "source": [
    "plt.figure(figsize=(11,5))\n",
    "x = train_data_radi[[name for name in col_name if 'ZoneEntropy.' in name]].corr()\n",
    "sns.heatmap(x, cmap=\"coolwarm\",annot=True)"
   ]
  },
  {
   "cell_type": "code",
   "execution_count": 493,
   "id": "e9b4cdd3",
   "metadata": {},
   "outputs": [
    {
     "data": {
      "text/plain": [
       "(torch.Size([50, 1, 20, 50, 50]), (torch.Size([50]), torch.Size([50])))"
      ]
     },
     "execution_count": 493,
     "metadata": {},
     "output_type": "execute_result"
    },
    {
     "data": {
      "text/plain": [
       "(torch.float32, (torch.int64, torch.float32))"
      ]
     },
     "execution_count": 493,
     "metadata": {},
     "output_type": "execute_result"
    }
   ],
   "source": []
  },
  {
   "cell_type": "code",
   "execution_count": 671,
   "id": "65985184",
   "metadata": {},
   "outputs": [
    {
     "data": {
      "text/plain": [
       "(388, 797)"
      ]
     },
     "execution_count": 671,
     "metadata": {},
     "output_type": "execute_result"
    }
   ],
   "source": [
    "data_radi.shape"
   ]
  },
  {
   "cell_type": "code",
   "execution_count": null,
   "id": "4eaef87b",
   "metadata": {},
   "outputs": [],
   "source": []
  }
 ],
 "metadata": {
  "kernelspec": {
   "display_name": "Python 3",
   "language": "python",
   "name": "python3"
  },
  "language_info": {
   "codemirror_mode": {
    "name": "ipython",
    "version": 3
   },
   "file_extension": ".py",
   "mimetype": "text/x-python",
   "name": "python",
   "nbconvert_exporter": "python",
   "pygments_lexer": "ipython3",
   "version": "3.8.11"
  }
 },
 "nbformat": 4,
 "nbformat_minor": 5
}
